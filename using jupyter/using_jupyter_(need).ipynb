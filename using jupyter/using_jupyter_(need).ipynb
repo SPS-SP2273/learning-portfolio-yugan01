{
 "cells": [
  {
   "cell_type": "markdown",
   "id": "123456",
   "metadata": {},
   "source": [
    "<div style=\"text-align:left;font-size:2em\"><span style=\"font-weight:bolder;font-size:1.25em\">SP2273 | Learning Portfolio</span><br><br><span style=\"font-weight:bold;color:darkred\">Using Jupyter (Need)</span></div>"
   ]
  },
  {
   "cell_type": "markdown",
   "id": "b30379e4",
   "metadata": {},
   "source": [
    "## 1 Getting started with Jupyter"
   ]
  },
  {
   "cell_type": "markdown",
   "id": "ae775642",
   "metadata": {},
   "source": [
    "### 1.1 Its all about running cells"
   ]
  },
  {
   "cell_type": "code",
   "execution_count": 9,
   "id": "22495ede",
   "metadata": {},
   "outputs": [
    {
     "name": "stdout",
     "output_type": "stream",
     "text": [
      "a + b + c = 6\n"
     ]
    }
   ],
   "source": [
    "a, b, c = 1, 2, 3\n",
    "print(\"a + b + c =\", a+b+c)"
   ]
  },
  {
   "cell_type": "markdown",
   "id": "0c0e4a97",
   "metadata": {},
   "source": [
    "### 1.2 A traditional start"
   ]
  },
  {
   "cell_type": "code",
   "execution_count": 10,
   "id": "f5f90e7f",
   "metadata": {},
   "outputs": [
    {
     "name": "stdout",
     "output_type": "stream",
     "text": [
      "Hello World\n"
     ]
    }
   ],
   "source": [
    "print(\"Hello World\")"
   ]
  },
  {
   "cell_type": "markdown",
   "id": "049ca0e2",
   "metadata": {},
   "source": [
    "## 2 All about Markdown"
   ]
  },
  {
   "cell_type": "markdown",
   "id": "d5954647",
   "metadata": {},
   "source": [
    "### 2.1 Rendering Markdown cells"
   ]
  },
  {
   "cell_type": "markdown",
   "id": "616529aa",
   "metadata": {},
   "source": [
    "The ships hung in the sky in much the same way that bricks don’t.\n",
    "\n"
   ]
  },
  {
   "cell_type": "markdown",
   "id": "4473f359",
   "metadata": {},
   "source": [
    "### 2.2 Some basic syntax"
   ]
  },
  {
   "cell_type": "markdown",
   "id": "decd9ac6",
   "metadata": {},
   "source": [
    "The ships *hung in the sky* in much the same way that **bricks don’t.**<sup>1</sup><sub>QUOTE</sub>"
   ]
  },
  {
   "cell_type": "markdown",
   "id": "569b948b",
   "metadata": {},
   "source": [
    "### 2.3 Headings"
   ]
  },
  {
   "cell_type": "markdown",
   "id": "3cd2be74",
   "metadata": {},
   "source": [
    "## Heading1\n",
    "# Heading 2\n",
    "### Heading3\n"
   ]
  },
  {
   "cell_type": "markdown",
   "id": "ef1aae8c",
   "metadata": {},
   "source": [
    "### 2.4 Displaying Code"
   ]
  },
  {
   "cell_type": "markdown",
   "id": "462ffa52",
   "metadata": {},
   "source": [
    "```python\n",
    "print(\"Hello World\")\n",
    "```"
   ]
  },
  {
   "cell_type": "markdown",
   "id": "8daa0265",
   "metadata": {},
   "source": [
    "### 2.5 Links"
   ]
  },
  {
   "cell_type": "markdown",
   "id": "907164bb",
   "metadata": {},
   "source": [
    "[SP2273 Website](https://sps.nus.edu.sg/sp2273)"
   ]
  },
  {
   "cell_type": "markdown",
   "id": "6122f8bc",
   "metadata": {},
   "source": [
    "### 2.6 Images"
   ]
  },
  {
   "cell_type": "markdown",
   "id": "0cbbf8ed",
   "metadata": {},
   "source": [
    "![](https://nus.edu.sg/images/default-source/base/logo.png)\n"
   ]
  },
  {
   "cell_type": "markdown",
   "id": "d40f0f32",
   "metadata": {},
   "source": [
    "### 2.7 Tables"
   ]
  },
  {
   "cell_type": "markdown",
   "id": "1d447c8d",
   "metadata": {},
   "source": [
    "| A    |  B   |    C |\n",
    "| :--- | :--: | ---: |\n",
    "| a1   |  b1  |   c1 |\n",
    "| a2   |  b2  |   c2 |\n"
   ]
  },
  {
   "cell_type": "markdown",
   "id": "379db6b2",
   "metadata": {},
   "source": [
    "### 2.8 Lists"
   ]
  },
  {
   "cell_type": "markdown",
   "id": "63c910dd",
   "metadata": {},
   "source": [
    "1. Master Yoda\n",
    "   1. Was a Jedi\n",
    "   1. Was a bit green\n",
    "1. Luke Skywalker\n",
    "   1. Was a Jedi\n",
    "   1. Is Anakin's son.\n",
    "1. Anakin Skywalker\n",
    "   1. Was a Jedi then became a baddie\n",
    "   1. Is famous for saying 'Luke, I am your father'"
   ]
  },
  {
   "cell_type": "markdown",
   "id": "2193327b",
   "metadata": {},
   "source": [
    "### 2.9 Equations"
   ]
  },
  {
   "cell_type": "markdown",
   "id": "6daf53ed",
   "metadata": {},
   "source": [
    "$$\n",
    "x = \\dfrac{-b \\pm \\sqrt{b^2-4ac}}{2a}\n",
    "$$\n",
    "\n",
    "$$\n",
    "\\sum_{n=1}^{n=\\infty} x_n\t\n",
    "$$\n"
   ]
  },
  {
   "cell_type": "markdown",
   "id": "2e73ca81",
   "metadata": {},
   "source": [
    "## Exercise 1 :  Put it in Markdown"
   ]
  },
  {
   "cell_type": "markdown",
   "id": "004aa458",
   "metadata": {},
   "source": [
    "**Quadratic Equations** \n",
    "![](https://upload.wikimedia.org/wikipedia/commons/thumb/f/f8/Polynomialdeg2.svg/300px-Polynomialdeg2.svg.png)\n",
    "\n",
    "**Introduction**\n",
    "\n",
    "The general form of a quadratic equation is $ax^2 + bx + c = 0$ \n",
    "\n",
    "*(Image from [Wikipedia page on Quadratic equations](https://en.wikipedia.org/wiki/Quadratic_equation))*\n",
    "\n",
    "**Solutions**\n",
    "\n",
    "Provided $a \\ne 0$, we can use an elementary algebraic method called [completeing the square](https://en.wikipedia.org/wiki/Completing_the_square) to show that a quadratic equation has the following solution:\n",
    "\n",
    "$$\n",
    "x = \\dfrac{-b \\pm \\sqrt{b^2-4ac}}{2a}\n",
    "$$\n",
    "\n",
    "**Discriminant**\n",
    "\n",
    "The quantity $\\Delta = b^2 - 4ac$ is called the **discriminant** of the equation and decides the nature of its solutions. The table below shows the various possibilities.\n",
    "\n",
    "| **Discriminant**          | **Roots**                          |\n",
    "|:---------------------------|:------------------------------------|\n",
    "| $$\\Delta = b^2 - 4ac = 0$$  | A single solution of $-b/(2a)$     |\n",
    "| $$\\Delta = b^2 - 4ac > 0$$  | Two distinct solutions             |\n",
    "| $$\\Delta = b^2 - 4ac < 0$$  | No real solutions;both are complex |"
   ]
  },
  {
   "cell_type": "markdown",
   "id": "6f11d13e",
   "metadata": {},
   "source": [
    "## Exercise 2 :  In your own words"
   ]
  },
  {
   "cell_type": "markdown",
   "id": "608aa1ea",
   "metadata": {},
   "source": [
    "1. Repository is a folder on the Github server to hold our files.\n",
    "2. Git keep tracks of changes in the files in our repository.\n",
    "3. A commit is a method to utilise to track the changes to the file\n",
    "4. A push is a method to share the changes to the cloud\n",
    "5. Github desktop creates a folder that is in the user's computer whereas Github uses the cloud server for the user to create files/changes. \n",
    "6. Fetch origin"
   ]
  },
  {
   "cell_type": "markdown",
   "id": "466d9c17",
   "metadata": {},
   "source": [
    "To prove that the limit of the function $f(x) = x^{1/3}$ as $x$ approaches $a$, where $a$ is a positive real number, is equal to $a^{1/3}$ using the $\\epsilon, \\delta$-definition, we must show that for any positive $\\epsilon$, there exists a positive $\\delta$ such that for all $x$, if $0 < |x-a| < \\delta$, then $|x^{1/3} - a^{1/3}| < \\epsilon$.\n",
    "\n",
    "Let $\\epsilon$ be any positive real number. Choose $\\delta = \\epsilon^3$. Now, let $x$ be any real number such that $0 < |x-a| < \\delta$. Then,\n",
    "\n",
    "$|x^{1/3} - a^{1/3}| = |x^{1/3} - a^{1/3}| = \\left|\\frac{x-a}{x^{2/3} + x^{1/3}a^{1/3} + a^{2/3}}\\right| < \\frac{|x-a|}{|x^{2/3}| + |x^{1/3}||a^{1/3}| + |a^{2/3}|} < \\frac{\\delta}{|x^{2/3}| + |x^{1/3}||a^{1/3}| + |a^{2/3}|} < \\frac{\\epsilon^3}{|x^{2/3}| + |x^{1/3}|*|a^{1/3}| + |a^{2/3}|} < \\epsilon$\n",
    "\n",
    "Therefore, for any positive $\\epsilon$, there exists a positive $\\delta$ such that for all $x$, if $0 < |x-a| < \\delta$, then $|x^{1/3} - a^{1/3}| < \\epsilon$. Thus, we have shown that the limit of the function $f(x) = x^{1/3}$ as $x$ approaches $a$ is equal to $a^{1/3}$, using the $\\epsilon, \\delta$-definition."
   ]
  },
  {
   "cell_type": "code",
   "execution_count": null,
   "id": "1ec7d5d4",
   "metadata": {},
   "outputs": [],
   "source": []
  }
 ],
 "metadata": {
  "kernelspec": {
   "display_name": "Python 3 (ipykernel)",
   "language": "python",
   "name": "python3"
  },
  "language_info": {
   "codemirror_mode": {
    "name": "ipython",
    "version": 3
   },
   "file_extension": ".py",
   "mimetype": "text/x-python",
   "name": "python",
   "nbconvert_exporter": "python",
   "pygments_lexer": "ipython3",
   "version": "3.10.8"
  },
  "toc": {
   "base_numbering": 1,
   "nav_menu": {},
   "number_sections": true,
   "sideBar": true,
   "skip_h1_title": false,
   "title_cell": "Table of Contents",
   "title_sidebar": "Contents",
   "toc_cell": false,
   "toc_position": {},
   "toc_section_display": true,
   "toc_window_display": false
  },
  "varInspector": {
   "cols": {
    "lenName": 16,
    "lenType": 16,
    "lenVar": 40
   },
   "kernels_config": {
    "python": {
     "delete_cmd_postfix": "",
     "delete_cmd_prefix": "del ",
     "library": "var_list.py",
     "varRefreshCmd": "print(var_dic_list())"
    },
    "r": {
     "delete_cmd_postfix": ") ",
     "delete_cmd_prefix": "rm(",
     "library": "var_list.r",
     "varRefreshCmd": "cat(var_dic_list()) "
    }
   },
   "types_to_exclude": [
    "module",
    "function",
    "builtin_function_or_method",
    "instance",
    "_Feature"
   ],
   "window_display": false
  },
  "vscode": {
   "interpreter": {
    "hash": "31f2aee4e71d21fbe5cf8b01ff0e069b9275f58929596ceb00d14d90e3e16cd6"
   }
  }
 },
 "nbformat": 4,
 "nbformat_minor": 5
}
