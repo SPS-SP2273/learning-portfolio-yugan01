{
 "cells": [
  {
   "cell_type": "markdown",
   "id": "123456",
   "metadata": {},
   "source": [
    "<div style=\"text-align:left;font-size:2em\"><span style=\"font-weight:bolder;font-size:1.25em\">SP2273 | Learning Portfolio</span><br><br><span style=\"font-weight:bold;color:darkred\">Plotting (Need)</span></div>"
   ]
  },
  {
   "cell_type": "markdown",
   "id": "45dfdcb6",
   "metadata": {},
   "source": [
    "## 1 A simple plot"
   ]
  },
  {
   "cell_type": "markdown",
   "id": "f4263d20",
   "metadata": {},
   "source": [
    "### 1.1 Let’s look at some code."
   ]
  },
  {
   "cell_type": "code",
   "execution_count": null,
   "id": "f5b145c9",
   "metadata": {},
   "outputs": [],
   "source": [
    "\n",
    "# Your code here\n"
   ]
  },
  {
   "cell_type": "markdown",
   "id": "d08a49a7",
   "metadata": {},
   "source": [
    "### 1.2 Adding another plot"
   ]
  },
  {
   "cell_type": "code",
   "execution_count": null,
   "id": "4c4a71ec",
   "metadata": {},
   "outputs": [],
   "source": [
    "\n",
    "# Your code here\n"
   ]
  },
  {
   "cell_type": "markdown",
   "id": "4edb50d5",
   "metadata": {},
   "source": [
    "### 1.3 Yet another plot but with error bars"
   ]
  },
  {
   "cell_type": "code",
   "execution_count": null,
   "id": "2e90430c",
   "metadata": {},
   "outputs": [],
   "source": [
    "\n",
    "# Your code here\n"
   ]
  },
  {
   "cell_type": "markdown",
   "id": "815020ce",
   "metadata": {},
   "source": [
    "### 1.4 Experiment, Experiment, Experiment"
   ]
  },
  {
   "cell_type": "code",
   "execution_count": null,
   "id": "a6bff847",
   "metadata": {},
   "outputs": [],
   "source": [
    "\n",
    "# Your code here\n"
   ]
  },
  {
   "cell_type": "markdown",
   "id": "b2f3918f",
   "metadata": {},
   "source": [
    "### 1.5 Better with NumPy"
   ]
  },
  {
   "cell_type": "code",
   "execution_count": null,
   "id": "3c881b47",
   "metadata": {},
   "outputs": [],
   "source": [
    "\n",
    "# Your code here\n"
   ]
  },
  {
   "cell_type": "markdown",
   "id": "763dea8c",
   "metadata": {},
   "source": [
    "### 1.6 Adding mathematical functions"
   ]
  },
  {
   "cell_type": "code",
   "execution_count": null,
   "id": "3f4af233",
   "metadata": {},
   "outputs": [],
   "source": [
    "\n",
    "# Your code here\n"
   ]
  },
  {
   "cell_type": "markdown",
   "id": "e8b9dee2",
   "metadata": {},
   "source": [
    "### 1.7 We need another axis!"
   ]
  },
  {
   "cell_type": "code",
   "execution_count": null,
   "id": "d816da91",
   "metadata": {},
   "outputs": [],
   "source": [
    "\n",
    "# Your code here\n"
   ]
  },
  {
   "cell_type": "markdown",
   "id": "2e0b10d0",
   "metadata": {},
   "source": [
    "### 1.8 Saving to disc"
   ]
  },
  {
   "cell_type": "code",
   "execution_count": null,
   "id": "aa724f83",
   "metadata": {},
   "outputs": [],
   "source": [
    "\n",
    "# Your code here\n"
   ]
  },
  {
   "cell_type": "markdown",
   "id": "0c3b7a59",
   "metadata": {},
   "source": [
    "## 2 A real example: Global Warming"
   ]
  },
  {
   "cell_type": "markdown",
   "id": "14663cb8",
   "metadata": {},
   "source": [
    "### 2.1 Plotting data from files"
   ]
  },
  {
   "cell_type": "code",
   "execution_count": null,
   "id": "ca3593e3",
   "metadata": {},
   "outputs": [],
   "source": [
    "\n",
    "# Your code here\n"
   ]
  },
  {
   "cell_type": "markdown",
   "id": "9654fccd",
   "metadata": {},
   "source": [
    "### 2.2 xkcd!"
   ]
  },
  {
   "cell_type": "code",
   "execution_count": null,
   "id": "5f76d0d3",
   "metadata": {},
   "outputs": [],
   "source": [
    "\n",
    "# Your code here\n"
   ]
  },
  {
   "cell_type": "markdown",
   "id": "e2b6f0ef",
   "metadata": {},
   "source": [
    "## Exercise 1 :  Fill in the blanks"
   ]
  },
  {
   "cell_type": "code",
   "execution_count": null,
   "id": "f8f62faf",
   "metadata": {},
   "outputs": [],
   "source": [
    "\n",
    "\n",
    "\n",
    "# Your solution here\n",
    "\n",
    "\n"
   ]
  },
  {
   "cell_type": "markdown",
   "id": "bc5ec87e",
   "metadata": {},
   "source": [
    "## Exercise 2 :  A simple mathematical plot"
   ]
  },
  {
   "cell_type": "code",
   "execution_count": null,
   "id": "d36bd53b",
   "metadata": {},
   "outputs": [],
   "source": [
    "\n",
    "\n",
    "\n",
    "# Your solution here\n",
    "\n",
    "\n"
   ]
  }
 ],
 "metadata": {
  "kernelspec": {
   "display_name": "Python 3 (ipykernel)",
   "language": "python",
   "name": "python3"
  },
  "language_info": {
   "codemirror_mode": {
    "name": "ipython",
    "version": 3
   },
   "file_extension": ".py",
   "mimetype": "text/x-python",
   "name": "python",
   "nbconvert_exporter": "python",
   "pygments_lexer": "ipython3",
   "version": "3.10.8"
  },
  "toc": {
   "base_numbering": 1,
   "nav_menu": {},
   "number_sections": true,
   "sideBar": true,
   "skip_h1_title": false,
   "title_cell": "Table of Contents",
   "title_sidebar": "Contents",
   "toc_cell": false,
   "toc_position": {},
   "toc_section_display": true,
   "toc_window_display": false
  },
  "varInspector": {
   "cols": {
    "lenName": 16,
    "lenType": 16,
    "lenVar": 40
   },
   "kernels_config": {
    "python": {
     "delete_cmd_postfix": "",
     "delete_cmd_prefix": "del ",
     "library": "var_list.py",
     "varRefreshCmd": "print(var_dic_list())"
    },
    "r": {
     "delete_cmd_postfix": ") ",
     "delete_cmd_prefix": "rm(",
     "library": "var_list.r",
     "varRefreshCmd": "cat(var_dic_list()) "
    }
   },
   "types_to_exclude": [
    "module",
    "function",
    "builtin_function_or_method",
    "instance",
    "_Feature"
   ],
   "window_display": false
  },
  "vscode": {
   "interpreter": {
    "hash": "31f2aee4e71d21fbe5cf8b01ff0e069b9275f58929596ceb00d14d90e3e16cd6"
   }
  }
 },
 "nbformat": 4,
 "nbformat_minor": 5
}
