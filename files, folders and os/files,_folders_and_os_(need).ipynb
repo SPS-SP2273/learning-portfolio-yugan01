{
 "cells": [
  {
   "cell_type": "markdown",
   "id": "123456",
   "metadata": {},
   "source": [
    "<div style=\"text-align:left;font-size:2em\"><span style=\"font-weight:bolder;font-size:1.25em\">SP2273 | Learning Portfolio</span><br><br><span style=\"font-weight:bold;color:darkred\">Files, Folders and OS (Need)</span></div>"
   ]
  },
  {
   "cell_type": "markdown",
   "id": "6510e983",
   "metadata": {},
   "source": [
    "## 1 Important concepts"
   ]
  },
  {
   "cell_type": "markdown",
   "id": "e0a9d3c5",
   "metadata": {},
   "source": [
    "### 1.1 Path"
   ]
  },
  {
   "cell_type": "code",
   "execution_count": null,
   "id": "40357645",
   "metadata": {},
   "outputs": [],
   "source": [
    "C:\\Users\\patyu\\Desktop\\learning-portfolio-yugan01\n",
    "    \n"
   ]
  },
  {
   "cell_type": "markdown",
   "id": "ea8384d5",
   "metadata": {},
   "source": [
    "### 1.2 More about relative paths"
   ]
  },
  {
   "cell_type": "code",
   "execution_count": null,
   "id": "52473a3c",
   "metadata": {},
   "outputs": [],
   "source": [
    "..\\functions\\functions_(good).ipynb"
   ]
  },
  {
   "cell_type": "markdown",
   "id": "07957d54",
   "metadata": {},
   "source": [
    "### 1.3 Path separator"
   ]
  },
  {
   "cell_type": "code",
   "execution_count": 2,
   "id": "b8056aa5",
   "metadata": {},
   "outputs": [
    {
     "ename": "SyntaxError",
     "evalue": "unexpected character after line continuation character (4131410828.py, line 1)",
     "output_type": "error",
     "traceback": [
      "\u001b[1;36m  Cell \u001b[1;32mIn[2], line 1\u001b[1;36m\u001b[0m\n\u001b[1;33m    C:\\Users\\patyu\\Desktop\\learning-portfolio-yugan01\u001b[0m\n\u001b[1;37m       ^\u001b[0m\n\u001b[1;31mSyntaxError\u001b[0m\u001b[1;31m:\u001b[0m unexpected character after line continuation character\n"
     ]
    }
   ],
   "source": [
    "C:\\Users\\patyu\\Desktop\\learning-portfolio-yugan01\n",
    "\n",
    "#backslash for Windows users"
   ]
  },
  {
   "cell_type": "markdown",
   "id": "43ab2121",
   "metadata": {},
   "source": [
    "### Text files vs Binary files"
   ]
  },
  {
   "cell_type": "markdown",
   "id": "5bc1dd32",
   "metadata": {},
   "source": [
    "text.txt can be opened by almost every software"
   ]
  },
  {
   "cell_type": "markdown",
   "id": "c11944ac",
   "metadata": {},
   "source": [
    "### Extentions"
   ]
  },
  {
   "cell_type": "markdown",
   "id": "622cd5fd",
   "metadata": {},
   "source": [
    "dont change the file extension"
   ]
  },
  {
   "cell_type": "markdown",
   "id": "7e0eb064",
   "metadata": {},
   "source": [
    "### 1.4 Opening and closing files"
   ]
  },
  {
   "cell_type": "code",
   "execution_count": 10,
   "id": "0176dea9",
   "metadata": {},
   "outputs": [
    {
     "name": "stdout",
     "output_type": "stream",
     "text": [
      "['Far out in the uncharted backwaters of the unfashionable end of the western spiral arm of the Galaxy lies a small unregarded yellow sun.', 'Orbiting this at a distance of roughly ninety-two million miles is an utterly insignificant little blue green planet whose ape-descended life forms are so amazingly primitive that they still think digital watches are a pretty neat idea.']\n"
     ]
    }
   ],
   "source": [
    "with open('spectrum-01.txt') as f: # default is read\n",
    "    file_content = f.readlines()\n",
    "\n",
    "text = 'Far out in the uncharted backwaters of the unfashionable end of the western spiral arm of the Galaxy lies a small unregarded yellow sun.\\nOrbiting this at a distance of roughly ninety-two million miles is an utterly insignificant little blue green planet whose ape-descended life forms are so amazingly primitive that they still think digital watches are a pretty neat idea.'\n",
    "\n",
    "with open(\"my_text_once.txt\", \"w\") as f:\n",
    "    f.write(text)\n",
    "print(text.splitlines())\n",
    "with open('my-text-lines.txt', 'w') as file:\n",
    "    for line in text.splitlines():  # split by \\n\n",
    "        file.writelines(line)"
   ]
  },
  {
   "cell_type": "markdown",
   "id": "71e21a0f",
   "metadata": {},
   "source": [
    "## 2 Playing with the OS"
   ]
  },
  {
   "cell_type": "markdown",
   "id": "6b16345d",
   "metadata": {},
   "source": [
    "### 2.1 Some packages"
   ]
  },
  {
   "cell_type": "code",
   "execution_count": 11,
   "id": "dbd1c3c3",
   "metadata": {},
   "outputs": [],
   "source": [
    "import os\n",
    "import glob\n",
    "import shutil"
   ]
  },
  {
   "cell_type": "markdown",
   "id": "70241974",
   "metadata": {},
   "source": [
    "### 2.2 OS safe paths"
   ]
  },
  {
   "cell_type": "code",
   "execution_count": 12,
   "id": "ec4e4dbe",
   "metadata": {},
   "outputs": [
    {
     "name": "stdout",
     "output_type": "stream",
     "text": [
      ".\\all-data\\sg-data\\data-01.txt\n"
     ]
    }
   ],
   "source": [
    "path = os.path.join('.', 'all-data', 'sg-data', 'data-01.txt')\n",
    "print(path)"
   ]
  },
  {
   "cell_type": "markdown",
   "id": "2ee038fb",
   "metadata": {},
   "source": [
    "### 2.3 Creating folders"
   ]
  },
  {
   "cell_type": "code",
   "execution_count": 13,
   "id": "9259fdd7",
   "metadata": {},
   "outputs": [
    {
     "name": "stdout",
     "output_type": "stream",
     "text": [
      "Creating people\\Jonh\n",
      "Creating people\\Paul\n",
      "Creating people\\Ringo\n"
     ]
    }
   ],
   "source": [
    "os.mkdir('people')\n",
    "\n",
    "for person in ['Jonh', 'Paul', 'Ringo']:\n",
    "    path = os.path.join('people', person)\n",
    "    print(f'Creating {path}')\n",
    "    os.mkdir(path)"
   ]
  },
  {
   "cell_type": "markdown",
   "id": "ef2e4616",
   "metadata": {},
   "source": [
    "### 2.4 Checking for existence"
   ]
  },
  {
   "cell_type": "code",
   "execution_count": 14,
   "id": "ce1ef768",
   "metadata": {},
   "outputs": [
    {
     "name": "stdout",
     "output_type": "stream",
     "text": [
      "people\\Jonh already exists; skipping creation.\n",
      "people\\Paul already exists; skipping creation.\n",
      "people\\Ringo already exists; skipping creation.\n"
     ]
    }
   ],
   "source": [
    "for person in ['Jonh', 'Paul', 'Ringo']:\n",
    "    path = os.path.join('people', person)\n",
    "    try:\n",
    "        os.mkdir(path)\n",
    "        print(f'Creating {path}')\n",
    "    except FileExistsError:\n",
    "        print(f'{path} already exists; skipping creation.')"
   ]
  },
  {
   "cell_type": "code",
   "execution_count": 15,
   "id": "ad1a4a3f",
   "metadata": {},
   "outputs": [
    {
     "name": "stdout",
     "output_type": "stream",
     "text": [
      "people\\Jonh already exists; skipping creation.\n",
      "people\\Paul already exists; skipping creation.\n",
      "people\\Ringo already exists; skipping creation.\n"
     ]
    }
   ],
   "source": [
    "for person in ['Jonh', 'Paul', 'Ringo']:\n",
    "    path = os.path.join('people', person)\n",
    "    if os.path.exists(path):\n",
    "        print(f'{path} already exists; skipping creation.')\n",
    "    else:\n",
    "        os.mkdir(path)\n",
    "        print(f'Creating {path}')"
   ]
  },
  {
   "cell_type": "markdown",
   "id": "bcbbc921",
   "metadata": {},
   "source": [
    "### 2.5 Copying files"
   ]
  },
  {
   "cell_type": "code",
   "execution_count": 16,
   "id": "20245571",
   "metadata": {},
   "outputs": [
    {
     "name": "stdout",
     "output_type": "stream",
     "text": [
      "Copied file to people\\Jonh\n",
      "Copied file to people\\Paul\n",
      "Copied file to people\\Ringo\n"
     ]
    }
   ],
   "source": [
    "for person in ['Jonh', 'Paul', 'Ringo']:\n",
    "    path_to_destination = os.path.join('people', person)\n",
    "    shutil.copy('sp2273_logo.png', path_to_destination)\n",
    "    print(f'Copied file to {path_to_destination}')"
   ]
  },
  {
   "cell_type": "code",
   "execution_count": 22,
   "id": "d556bcb6",
   "metadata": {},
   "outputs": [],
   "source": [
    "for person in ['Jonh', 'Paul', 'Ringo']:\n",
    "    path_to_imgs = os.path.join(\"people\", person, \"imgs\")\n",
    "    if not os.path.exists(path_to_imgs):\n",
    "        os.mkdir(path_to_imgs)\n",
    "    \n",
    "        current = os.path.join(\"people\", person, \"sp2273_logo.png\")\n",
    "        future = os.path.join(\"people\", person, \"imgs\", \"sp2273_logo.png\")\n",
    "    \n",
    "        shutil.move(current, future)\n",
    "        print(f'Moved logo to {new_path_of_logo}')\n",
    "    "
   ]
  },
  {
   "cell_type": "markdown",
   "id": "cc29d3b2",
   "metadata": {},
   "source": [
    "### 2.6 Listing files"
   ]
  },
  {
   "cell_type": "code",
   "execution_count": 31,
   "id": "c8578ce9",
   "metadata": {},
   "outputs": [
    {
     "name": "stdout",
     "output_type": "stream",
     "text": [
      "['people\\\\Jonh\\\\imgs\\\\sp2273_logo.png', 'people\\\\Paul\\\\imgs\\\\sp2273_logo.png', 'people\\\\Ringo\\\\imgs\\\\sp2273_logo.png']\n",
      "['people\\\\', 'people\\\\Jonh', 'people\\\\Jonh\\\\imgs', 'people\\\\Jonh\\\\imgs\\\\sp2273_logo.png', 'people\\\\Paul', 'people\\\\Paul\\\\imgs', 'people\\\\Paul\\\\imgs\\\\sp2273_logo.png', 'people\\\\Ringo', 'people\\\\Ringo\\\\imgs', 'people\\\\Ringo\\\\imgs\\\\sp2273_logo.png']\n",
      "['people\\\\Jonh\\\\imgs\\\\sp2273_logo.png', 'people\\\\Paul\\\\imgs\\\\sp2273_logo.png', 'people\\\\Ringo\\\\imgs\\\\sp2273_logo.png']\n"
     ]
    }
   ],
   "source": [
    "glob.glob(\"*\")\n",
    "glob.glob(\"peo*\")\n",
    "print(glob.glob(\"peo*/*/*/*\"))\n",
    "print(glob.glob(\"people/**\", recursive=True))\n",
    "print(glob.glob(\"people/**/*.png\", recursive=True))"
   ]
  },
  {
   "cell_type": "markdown",
   "id": "ff89a1e0",
   "metadata": {},
   "source": [
    "### 2.7 Moving about"
   ]
  },
  {
   "cell_type": "code",
   "execution_count": 34,
   "id": "3e75ca96",
   "metadata": {},
   "outputs": [],
   "source": [
    "os.getcwd()\n",
    "os.chdir(\"people/ringo\")"
   ]
  },
  {
   "cell_type": "markdown",
   "id": "ed50ace7",
   "metadata": {},
   "source": [
    "### 2.8 Extracting Info"
   ]
  },
  {
   "cell_type": "code",
   "execution_count": 62,
   "id": "2e03ad26",
   "metadata": {},
   "outputs": [
    {
     "name": "stdout",
     "output_type": "stream",
     "text": [
      "people\\Ringo\\imgs\\sp2273_logo.png\n",
      "sp2273_logo.png png\n"
     ]
    }
   ],
   "source": [
    "path = 'people\\Ringo\\imgs\\sp2273_logo.png'\n",
    "path = os.path.join('people', 'Ringo', \"imgs\", \"sp2273_logo.png\")\n",
    "filename = path.split(os.path.sep)[-1]\n",
    "extension = filename.split(\".\")[-1]\n",
    "print(filename, extension)"
   ]
  },
  {
   "cell_type": "code",
   "execution_count": 67,
   "id": "61e80606",
   "metadata": {},
   "outputs": [
    {
     "name": "stdout",
     "output_type": "stream",
     "text": [
      "('people\\\\Ringo\\\\imgs', 'sp2273_logo.png')\n",
      "('people\\\\Ringo\\\\imgs\\\\sp2273_logo', '.png')\n",
      "people\\Ringo\\imgs\n"
     ]
    }
   ],
   "source": [
    "path = os.path.join('people', 'Ringo', \"imgs\", \"sp2273_logo.png\")\n",
    "print(os.path.split(path)) #splits filename from the rest\n",
    "print(os.path.splitext(path)) # splits extension\n",
    "print(os.path.dirname(path))"
   ]
  },
  {
   "cell_type": "markdown",
   "id": "1bed85bc",
   "metadata": {},
   "source": [
    "### 2.9 Deleting stuff"
   ]
  },
  {
   "cell_type": "code",
   "execution_count": 74,
   "id": "0a7559b8",
   "metadata": {},
   "outputs": [
    {
     "name": "stdout",
     "output_type": "stream",
     "text": [
      "imgs\\sp2273_logo.png\n"
     ]
    },
    {
     "ename": "FileNotFoundError",
     "evalue": "[WinError 2] The system cannot find the file specified: 'imgs\\\\sp2273_logo.png'",
     "output_type": "error",
     "traceback": [
      "\u001b[1;31m---------------------------------------------------------------------------\u001b[0m",
      "\u001b[1;31mFileNotFoundError\u001b[0m                         Traceback (most recent call last)",
      "Cell \u001b[1;32mIn[74], line 4\u001b[0m\n\u001b[0;32m      2\u001b[0m path \u001b[38;5;241m=\u001b[39m os\u001b[38;5;241m.\u001b[39mpath\u001b[38;5;241m.\u001b[39mjoin(\u001b[38;5;124m\"\u001b[39m\u001b[38;5;124mimgs\u001b[39m\u001b[38;5;124m\"\u001b[39m, \u001b[38;5;124m\"\u001b[39m\u001b[38;5;124msp2273_logo.png\u001b[39m\u001b[38;5;124m\"\u001b[39m)\n\u001b[0;32m      3\u001b[0m \u001b[38;5;28mprint\u001b[39m(path)\n\u001b[1;32m----> 4\u001b[0m \u001b[43mos\u001b[49m\u001b[38;5;241;43m.\u001b[39;49m\u001b[43mremove\u001b[49m\u001b[43m(\u001b[49m\u001b[43mpath\u001b[49m\u001b[43m)\u001b[49m\n",
      "\u001b[1;31mFileNotFoundError\u001b[0m: [WinError 2] The system cannot find the file specified: 'imgs\\\\sp2273_logo.png'"
     ]
    }
   ],
   "source": [
    "os.getcwd()\n",
    "path = os.path.join(\"imgs\", \"sp2273_logo.png\")\n",
    "print(path)\n",
    "os.remove(path)"
   ]
  },
  {
   "cell_type": "code",
   "execution_count": 97,
   "id": "df4dd7ad",
   "metadata": {},
   "outputs": [],
   "source": [
    "os.getcwd()\n",
    "\n",
    "#os.rmdir('people/Ringo/imgs')\n",
    "\n",
    "shutil.rmtree('people/Ringo')"
   ]
  },
  {
   "cell_type": "markdown",
   "id": "351d1c24",
   "metadata": {},
   "source": [
    "## Exercise 7 :  The OS is my oyster"
   ]
  },
  {
   "cell_type": "code",
   "execution_count": 148,
   "id": "b9b9e137",
   "metadata": {},
   "outputs": [
    {
     "name": "stdout",
     "output_type": "stream",
     "text": [
      "['haha_10', 'haha_20', 'haha_30', 'haha_40', 'haha_50']\n",
      "['sp2273_logo.png']\n",
      "['sp2273_logo.png']\n",
      "['sp2273_logo.png']\n",
      "['sp2273_logo.png']\n",
      "['sp2273_logo.png']\n"
     ]
    }
   ],
   "source": [
    "os.getcwd()\n",
    "#os.mkdir('python_today')\n",
    "#os.chdir('python_today')\n",
    "#for i in range(1,51):\n",
    "#    os.mkdir(f'new_directory_{i:02d}')\n",
    "#for i in range(1,51,2):\n",
    "#    os.rmdir(f'new_directory_{i:02d}')\n",
    "#for i in range(0, 51,5):\n",
    "#    if os.path.exists(f'new_directory_{i:02d}'):\n",
    "#        os.rename(f'new_directory_{i:02d}', f'haha_{i:02d}')\n",
    "#os.listdir()\n",
    "#glob.glob('haha*')\n",
    "#os.getcwd()\n",
    "\n",
    "\n",
    "#for i in glob.glob('haha*'):\n",
    "#    shutil.copy('..\\sp2273_logo.png', i)\n",
    "#print(glob.glob('haha*'))\n",
    "\n",
    "print(glob.glob('haha*'))\n",
    "for i in glob.glob('haha*'):\n",
    "    print(os.listdir(i))"
   ]
  },
  {
   "cell_type": "markdown",
   "id": "001c69fa",
   "metadata": {},
   "source": [
    "## Exercise 8 :  Tidying a collaboration"
   ]
  },
  {
   "cell_type": "code",
   "execution_count": 1,
   "id": "9af1a568",
   "metadata": {
    "code_folding": []
   },
   "outputs": [
    {
     "data": {
      "text/plain": [
       "\"\\nfor i in ['Cairo', 'Dhaka', 'Jakarta', 'Karachi', 'Manila',\\n          'Melbourne', 'Osaka', 'Shanghai', 'Singapore', 'Tokyo']:\\n    s = '*' + i.lower() +'.*'\\n    for j in glob.glob(s):\\n        try: \\n            shutil.move(j, i)\\n        except:\\n            os.remove(j)\\n\""
      ]
     },
     "execution_count": 1,
     "metadata": {},
     "output_type": "execute_result"
    }
   ],
   "source": [
    "d = {\n",
    "'jan': '01', 'feb': '02', 'mar': '03',\n",
    "'apr': '04', 'may': '05', 'jun': '06',\n",
    "'jul': '07', 'aug': '08', 'sep': '09',\n",
    "'oct': '10', 'nov': '11', 'dec': '12'\n",
    "}\n",
    "\n",
    "\n",
    "def rename_my_file(old_file_name):\n",
    "    if os.path.exists(old_file_name):\n",
    "        return d[old_file_name[:3]] + old_file_name[3:]\n",
    "\n",
    "old = ['oct-08_singapore.txt', 'jul-10_cairo.txt', 'may-15_dhaka.txt',\n",
    " 'may-13_cairo.txt', 'oct-21_cairo.txt', 'jan-10_singapore.txt',\n",
    " 'jun-20_tokyo.txt', 'aug-06_jakarta.txt', 'dec-21_karachi.txt',\n",
    " 'jan-01_tokyo.txt']\n",
    "#rename file\n",
    "#for i in old:\n",
    "#    print(f'{i} ------> {rename_my_file(i)}')\n",
    "\n",
    "# rename files in os  \n",
    "#for i in glob.glob('*.txt'):\n",
    "#    os.rename(i, rename_my_file(i))\n",
    "\n",
    "# makes directories\n",
    "#for i in ['Cairo', 'Dhaka', 'Jakarta', 'Karachi', 'Manila',\n",
    "# 'Melbourne', 'Osaka', 'Shanghai', 'Singapore', 'Tokyo']:\n",
    "#    os.mkdir(i)\n",
    "\n",
    "# copy files to cairo\n",
    "#glob.glob('*cairo.*')\n",
    "#for i in glob.glob('*cairo.*'):\n",
    "#    shutil.copy(i, 'Cairo')\n",
    "'''\n",
    "for i in ['Cairo', 'Dhaka', 'Jakarta', 'Karachi', 'Manila',\n",
    "          'Melbourne', 'Osaka', 'Shanghai', 'Singapore', 'Tokyo']:\n",
    "    s = '*' + i.lower() +'.*'\n",
    "    for j in glob.glob(s):\n",
    "        try: \n",
    "            shutil.move(j, i)\n",
    "        except:\n",
    "            os.remove(j)\n",
    "'''\n",
    "                \n",
    "        "
   ]
  }
 ],
 "metadata": {
  "kernelspec": {
   "display_name": "Python 3 (ipykernel)",
   "language": "python",
   "name": "python3"
  },
  "language_info": {
   "codemirror_mode": {
    "name": "ipython",
    "version": 3
   },
   "file_extension": ".py",
   "mimetype": "text/x-python",
   "name": "python",
   "nbconvert_exporter": "python",
   "pygments_lexer": "ipython3",
   "version": "3.10.8"
  },
  "toc": {
   "base_numbering": 1,
   "nav_menu": {},
   "number_sections": true,
   "sideBar": true,
   "skip_h1_title": false,
   "title_cell": "Table of Contents",
   "title_sidebar": "Contents",
   "toc_cell": false,
   "toc_position": {},
   "toc_section_display": true,
   "toc_window_display": false
  },
  "varInspector": {
   "cols": {
    "lenName": 16,
    "lenType": 16,
    "lenVar": 40
   },
   "kernels_config": {
    "python": {
     "delete_cmd_postfix": "",
     "delete_cmd_prefix": "del ",
     "library": "var_list.py",
     "varRefreshCmd": "print(var_dic_list())"
    },
    "r": {
     "delete_cmd_postfix": ") ",
     "delete_cmd_prefix": "rm(",
     "library": "var_list.r",
     "varRefreshCmd": "cat(var_dic_list()) "
    }
   },
   "types_to_exclude": [
    "module",
    "function",
    "builtin_function_or_method",
    "instance",
    "_Feature"
   ],
   "window_display": false
  },
  "vscode": {
   "interpreter": {
    "hash": "31f2aee4e71d21fbe5cf8b01ff0e069b9275f58929596ceb00d14d90e3e16cd6"
   }
  }
 },
 "nbformat": 4,
 "nbformat_minor": 5
}
