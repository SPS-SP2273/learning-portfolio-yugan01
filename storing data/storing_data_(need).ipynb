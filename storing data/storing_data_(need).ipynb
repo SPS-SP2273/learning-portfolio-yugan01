{
 "cells": [
  {
   "cell_type": "markdown",
   "id": "123456",
   "metadata": {},
   "source": [
    "<div style=\"text-align:left;font-size:2em\"><span style=\"font-weight:bolder;font-size:1.25em\">SP2273 | Learning Portfolio</span><br><br><span style=\"font-weight:bold;color:darkred\">Storing Data (Need)</span></div>"
   ]
  },
  {
   "cell_type": "markdown",
   "id": "e83e3274",
   "metadata": {},
   "source": [
    "## 1 Lists, Arrays & Dictionaries"
   ]
  },
  {
   "cell_type": "markdown",
   "id": "94388b02",
   "metadata": {},
   "source": [
    "### 1.1 Let’s compare"
   ]
  },
  {
   "cell_type": "code",
   "execution_count": 21,
   "id": "ba900bbd",
   "metadata": {},
   "outputs": [
    {
     "name": "stdout",
     "output_type": "stream",
     "text": [
      "[0 1 2 3 4 5 6 7 8 9]\n",
      "[0, 1, 2, 3, 4, 5, 6, 7, 8, 9]\n",
      "{0: '0  number', 1: '1  number', 2: '2  number', 3: '3  number', 4: '4  number'}\n",
      "dict_keys(['Natasha Romanoff', 'Tony Stark', 'Stephen Strange'])\n"
     ]
    }
   ],
   "source": [
    "import numpy as np\n",
    "\n",
    "print(np.array([i for i in range(10)]))\n",
    "print([i for i in range(10)])\n",
    "print(dict([(i, str(i)+'  number') for i in range(5)]))\n",
    "\n",
    "superhero_info = {\"Natasha Romanoff\": \"Black Widow\",\n",
    "                  \"Tony Stark\": \"Iron Man\",\n",
    "                  \"Stephen Strange\": \"Doctor Strange\"\n",
    "                  }\n",
    "print(superhero_info)"
   ]
  },
  {
   "cell_type": "markdown",
   "id": "0f2cad5c",
   "metadata": {},
   "source": [
    "### 1.2 Accessing data from a list (or array)"
   ]
  },
  {
   "cell_type": "code",
   "execution_count": 23,
   "id": "d412391c",
   "metadata": {},
   "outputs": [],
   "source": [
    "py_super_names = [\"Black Widow\", \"Iron Man\", \"Doctor Strange\"]\n",
    "py_real_names = [\"Natasha Romanoff\", \"Tony Stark\", \"Stephen Strange\"]"
   ]
  },
  {
   "cell_type": "code",
   "execution_count": 36,
   "id": "de453ba0",
   "metadata": {},
   "outputs": [
    {
     "name": "stdout",
     "output_type": "stream",
     "text": [
      "Black Widow\n",
      "0\n"
     ]
    }
   ],
   "source": [
    "print(py_super_names[0]) # to find the element in the list from its index\n",
    "print(py_super_names.index(\"Black Widow\")) # to find the index of the element from the element "
   ]
  },
  {
   "cell_type": "code",
   "execution_count": 26,
   "id": "18a50002",
   "metadata": {},
   "outputs": [
    {
     "data": {
      "text/plain": [
       "'Tony Stark'"
      ]
     },
     "execution_count": 26,
     "metadata": {},
     "output_type": "execute_result"
    }
   ],
   "source": [
    "py_real_names[-2]"
   ]
  },
  {
   "cell_type": "markdown",
   "id": "4ac18925",
   "metadata": {},
   "source": [
    "### 1.3 Accessing data from a dictionary"
   ]
  },
  {
   "cell_type": "code",
   "execution_count": 27,
   "id": "76715ce7",
   "metadata": {},
   "outputs": [],
   "source": [
    "superhero_info = {\"Natasha Romanoff\": \"Black Widow\",\n",
    "                  \"Tony Stark\": \"Iron Man\",\n",
    "                  \"Stephen Strange\": \"Doctor Strange\"\n",
    "                  }"
   ]
  },
  {
   "cell_type": "code",
   "execution_count": 39,
   "id": "48b71447",
   "metadata": {},
   "outputs": [
    {
     "name": "stdout",
     "output_type": "stream",
     "text": [
      "Iron Man\n",
      "Tony Stark\n"
     ]
    }
   ],
   "source": [
    "print(superhero_info[\"Tony Stark\"])     # to find the value of the key\n",
    "for i in superhero_info:                # to find the key of the dictionary from its value\n",
    "    if superhero_info[i] == \"Iron Man\":\n",
    "        print(i)"
   ]
  },
  {
   "cell_type": "code",
   "execution_count": 34,
   "id": "37fd1a4a",
   "metadata": {},
   "outputs": [
    {
     "name": "stdout",
     "output_type": "stream",
     "text": [
      "dict_keys(['Natasha Romanoff', 'Tony Stark', 'Stephen Strange'])\n",
      "dict_values(['Black Widow', 'Iron Man', 'Doctor Strange'])\n"
     ]
    }
   ],
   "source": [
    "print(superhero_info.keys())\n",
    "print(superhero_info.values())"
   ]
  },
  {
   "cell_type": "markdown",
   "id": "f26a9ddb",
   "metadata": {},
   "source": [
    "### 1.4 Higher dimensional lists"
   ]
  },
  {
   "cell_type": "code",
   "execution_count": 43,
   "id": "ddb91334",
   "metadata": {},
   "outputs": [
    {
     "name": "stdout",
     "output_type": "stream",
     "text": [
      "[['1' 'A']\n",
      " ['2' 'B']\n",
      " ['3' 'C']\n",
      " ['4' 'D']\n",
      " ['5' 'E']\n",
      " ['6' 'F']\n",
      " ['7' 'G']\n",
      " ['8' 'H']\n",
      " ['9' 'I']\n",
      " ['10' 'J']]\n",
      "['1' 'A' '2' 'B' '3' 'C' '4' 'D' '5' 'E' '6' 'F' '7' 'G' '8' 'H' '9' 'I'\n",
      " '10' 'J']\n"
     ]
    }
   ],
   "source": [
    "py_list_2d = [[1, \"A\"], [2, \"B\"], [3, \"C\"], [4, \"D\"],\n",
    "              [5, \"E\"], [6, \"F\"], [7, \"G\"], [8, \"H\"],\n",
    "              [9, \"I\"], [10, \"J\"]]\n",
    "\n",
    "np_array_2d = np.array(py_list_2d)\n",
    "print(np_array_2d)\n",
    "print(np_array_2d.flatten()) # to collapse the 2d array into a singular array"
   ]
  },
  {
   "cell_type": "markdown",
   "id": "e05562cb",
   "metadata": {},
   "source": [
    "## 2 Lists vs. Arrays"
   ]
  },
  {
   "cell_type": "markdown",
   "id": "647e3f11",
   "metadata": {},
   "source": [
    "### 2.1 Size"
   ]
  },
  {
   "cell_type": "code",
   "execution_count": 24,
   "id": "64ac837b",
   "metadata": {},
   "outputs": [
    {
     "name": "stdout",
     "output_type": "stream",
     "text": [
      "True\n",
      "(10, 2)\n",
      "[['1' 'A' '2' 'B' '3' 'C' '4' 'D' '5' 'E']\n",
      " ['6' 'F' '7' 'G' '8' 'H' '9' 'I' '10' 'J']]\n",
      "[ True  True  True  True  True  True  True  True  True  True  True  True\n",
      "  True  True  True  True  True  True  True  True]\n",
      "[['1' '2' '3' '4' '5' '6' '7' '8' '9' '10']\n",
      " ['A' 'B' 'C' 'D' 'E' 'F' 'G' 'H' 'I' 'J']]\n"
     ]
    }
   ],
   "source": [
    "py_list_2d = [[1, \"A\"], [2, \"B\"], [3, \"C\"], [4, \"D\"],\n",
    "              [5, \"E\"], [6, \"F\"], [7, \"G\"], [8, \"H\"],\n",
    "              [9, \"I\"], [10, \"J\"]]\n",
    "\n",
    "np_array_2d = np.array(py_list_2d)\n",
    "\n",
    "print(len(np_array_2d)==len(py_list_2d)==10)\n",
    "\n",
    "print(np_array_2d.shape)\n",
    "\n",
    "print(np_array_2d.reshape((2,10))) #reshapes the matrix to one with 2 rows and 10 columns\n",
    "print(np_array_2d.reshape(-1)) # flattens the list\n",
    "print(np_array_2d.transpose()) # transposes the matrix "
   ]
  },
  {
   "cell_type": "markdown",
   "id": "69a3cbcb",
   "metadata": {},
   "source": [
    "### 2.2 Arrays are fussy about type"
   ]
  },
  {
   "cell_type": "code",
   "execution_count": 79,
   "id": "95b1b6dd",
   "metadata": {},
   "outputs": [
    {
     "name": "stdout",
     "output_type": "stream",
     "text": [
      "[1 0 5 2]\n",
      "[True False 5 '2']\n",
      "[ True False  True  True]\n"
     ]
    }
   ],
   "source": [
    "py_list = [(1,2),True, False, 5]\n",
    "#print(np.array(py_list)) Error as different types were used and dtype wasnt' specified\n",
    "\n",
    "py_list = [True, False, 5, '2']\n",
    "print(np.array(py_list, dtype = 'int')) #converts every element to be an int\n",
    "print(np.array(py_list, dtype = 'object')) #type of every element is an object (tuple, int, str)\n",
    "print(np.array(py_list, dtype = 'bool')) # every type is a bool"
   ]
  },
  {
   "cell_type": "markdown",
   "id": "0f3f88ad",
   "metadata": {},
   "source": [
    "### 2.3 Adding a number"
   ]
  },
  {
   "cell_type": "code",
   "execution_count": 43,
   "id": "59c7b0b4",
   "metadata": {},
   "outputs": [
    {
     "name": "stdout",
     "output_type": "stream",
     "text": [
      "[11 12 13 14 15]\n",
      "[11, 12, 13, 14, 15]\n"
     ]
    }
   ],
   "source": [
    "py_list = [1, 2, 3, 4, 5]\n",
    "np_array = np.array(py_list) \n",
    "\n",
    "print(np_array+10)\n",
    "print(list(map(lambda x: x+ 10, py_list)))\n",
    "#print(py_list + 10)  error as the types are different \n"
   ]
  },
  {
   "cell_type": "markdown",
   "id": "b508c23a",
   "metadata": {},
   "source": [
    "### 2.4 Adding another list"
   ]
  },
  {
   "cell_type": "code",
   "execution_count": 57,
   "id": "74fa5f02",
   "metadata": {},
   "outputs": [
    {
     "name": "stdout",
     "output_type": "stream",
     "text": [
      "[1, 2, 3, 4, 5, 10, 20, 30, 40, 50]\n",
      "[ 1  2  3  4  5 10 20 30 40 50]\n",
      "[11, 22, 33, 44, 55]\n",
      "[11 22 33 44 55]\n",
      "[11 22 33 44 55]\n"
     ]
    }
   ],
   "source": [
    "py_list_1 = [1, 2, 3, 4, 5]\n",
    "py_list_2 = [10, 20, 30, 40, 50]\n",
    "\n",
    "np_array_1 = np.array(py_list_1)\n",
    "np_array_2 = np.array(py_list_2) \n",
    "\n",
    "print(py_list_1+ py_list_2)\n",
    "print(np.concatenate((np_array_1, np_array_2)))\n",
    "print(list(map(lambda x,y: x+y, py_list_1, py_list_2)))\n",
    "print(np_array_2 + np_array_1)\n",
    "print(py_list_1 + np_array_2)# converts py_list_1 to be an numpy.ndarray "
   ]
  },
  {
   "cell_type": "markdown",
   "id": "5b6dade5",
   "metadata": {},
   "source": [
    "### 2.5 Multiplying by a Number"
   ]
  },
  {
   "cell_type": "code",
   "execution_count": 74,
   "id": "e507f2fe",
   "metadata": {},
   "outputs": [
    {
     "name": "stdout",
     "output_type": "stream",
     "text": [
      "[1, 2, 3, 4, 5, 1, 2, 3, 4, 5, 1, 2, 3, 4, 5]\n",
      "[3, 6, 9, 12, 15]\n",
      "[ 3  6  9 12 15]\n"
     ]
    }
   ],
   "source": [
    "py_list = [1, 2, 3, 4, 5]\n",
    "np_array = np.array(py_list)\n",
    "\n",
    "print(py_list*3)\n",
    "print(list(map(lambda x: x*3, py_list)))\n",
    "print(np_array*3)"
   ]
  },
  {
   "cell_type": "markdown",
   "id": "0f564ca0",
   "metadata": {},
   "source": [
    "### 2.6 Squaring"
   ]
  },
  {
   "cell_type": "code",
   "execution_count": 80,
   "id": "3853cb07",
   "metadata": {},
   "outputs": [
    {
     "name": "stdout",
     "output_type": "stream",
     "text": [
      "[1, 4, 9, 16, 25]\n",
      "[ 1  4  9 16 25]\n"
     ]
    }
   ],
   "source": [
    "py_list = [1, 2, 3, 4, 5]\n",
    "np_array = np.array(py_list)\n",
    "\n",
    "print(list(map(lambda x: x**2, py_list)))\n",
    "print(np_array**2)\n"
   ]
  },
  {
   "cell_type": "markdown",
   "id": "53a6f83f",
   "metadata": {},
   "source": [
    "### 2.7 Asking questions"
   ]
  },
  {
   "cell_type": "code",
   "execution_count": 82,
   "id": "dd471287",
   "metadata": {},
   "outputs": [
    {
     "data": {
      "text/plain": [
       "False"
      ]
     },
     "execution_count": 82,
     "metadata": {},
     "output_type": "execute_result"
    }
   ],
   "source": [
    "py_list = [1, 2, 3, 4, 5]\n",
    "np_array = np.array(py_list)"
   ]
  },
  {
   "cell_type": "code",
   "execution_count": 83,
   "id": "5d28b8af",
   "metadata": {},
   "outputs": [
    {
     "data": {
      "text/plain": [
       "array([False, False, False,  True,  True])"
      ]
     },
     "execution_count": 83,
     "metadata": {},
     "output_type": "execute_result"
    }
   ],
   "source": [
    "np_array >3"
   ]
  },
  {
   "cell_type": "code",
   "execution_count": 87,
   "id": "ebe76e63",
   "metadata": {},
   "outputs": [
    {
     "data": {
      "text/plain": [
       "[False, False, False, True, True]"
      ]
     },
     "execution_count": 87,
     "metadata": {},
     "output_type": "execute_result"
    }
   ],
   "source": [
    "list(map(lambda x: x>3, py_list))"
   ]
  },
  {
   "cell_type": "code",
   "execution_count": 88,
   "id": "ed41e26d",
   "metadata": {},
   "outputs": [
    {
     "data": {
      "text/plain": [
       "True"
      ]
     },
     "execution_count": 88,
     "metadata": {},
     "output_type": "execute_result"
    }
   ],
   "source": [
    "np.array_equal(py_list,np_array) # same as comparing 2 lists"
   ]
  },
  {
   "cell_type": "markdown",
   "id": "420f19dd",
   "metadata": {},
   "source": [
    "### 2.8 Mathematics"
   ]
  },
  {
   "cell_type": "code",
   "execution_count": 98,
   "id": "55bb5ac0",
   "metadata": {},
   "outputs": [
    {
     "name": "stdout",
     "output_type": "stream",
     "text": [
      "3.0\n",
      "15\n"
     ]
    }
   ],
   "source": [
    "py_list = [1, 2, 3, 4, 5]\n",
    "np_array = np.array(py_list)\n",
    "\n",
    "print(np_array.mean())\n",
    "print(np_array.sum())"
   ]
  },
  {
   "cell_type": "markdown",
   "id": "77f68bdf",
   "metadata": {},
   "source": [
    "## Exercise 1 :  Total recall?"
   ]
  },
  {
   "cell_type": "markdown",
   "id": "565dfb16",
   "metadata": {},
   "source": [
    "Purely from memory, jot down:\n",
    "\n",
    "Two similarities between lists and arrays.\n",
    "1. Lists and arrays are mutable, their individual elements can be changed\n",
    "2. Lists and arrays hold a list of elements which can be indexed and sliced\n",
    "Two differences between lists and arrays.\n",
    "1. Lists can hold elements of various types (ints, other lists, strings), whereas arrays can only hold elements of a singular type(string, int, objects)\n",
    "2. array manipulation(addition and multiplication) changes every element of the array whereas list manipulation(addition and multiplication) changes the list itself, either adding lists onto itself or repeating lists \n",
    "\n",
    "What is a dictionary?\n",
    "dictionary is a data structure that has key-value pairs the keys must be of an immutable data type (int, str, tuples) whereas the values can be of any data type including other dictionaries"
   ]
  },
  {
   "cell_type": "markdown",
   "id": "c8afc6b5",
   "metadata": {},
   "source": [
    "## Exercise 2 :  Index me"
   ]
  },
  {
   "cell_type": "code",
   "execution_count": 2,
   "id": "f7903c93",
   "metadata": {},
   "outputs": [
    {
     "name": "stdout",
     "output_type": "stream",
     "text": [
      "a1\n",
      "c3\n",
      "e5\n",
      "g7\n",
      "i9\n",
      "a1\n",
      "c3\n",
      "e5\n",
      "g7\n",
      "i9\n"
     ]
    }
   ],
   "source": [
    "py_list = [\"a1\", \"b2\", \"c3\", \"d4\", \"e5\", \"f6\", \"g7\", \"h8\", \"i9\", \"j10\"]\n",
    "print(py_list[0])   # Prints 'a1'\n",
    "print(py_list[2])   # Prints 'c3'\n",
    "print(py_list[4])   # Prints 'e5'\n",
    "print(py_list[6])   # Prints 'g7'\n",
    "print(py_list[8])   # Prints 'i9'\n",
    "\n",
    "for i in range(0,10,2):\n",
    "    print(py_list[i])"
   ]
  },
  {
   "cell_type": "markdown",
   "id": "6df3417c",
   "metadata": {},
   "source": [
    "## Exercise 3 :  Capitalise Heros"
   ]
  },
  {
   "cell_type": "code",
   "execution_count": 102,
   "id": "b21fd111",
   "metadata": {},
   "outputs": [
    {
     "name": "stdout",
     "output_type": "stream",
     "text": [
      "{'Natasha Romanoff': 'BLACK WIDOW', 'Tony Stark': 'IRON MAN', 'Stephen Strange': 'DOCTOR STRANGE'}\n"
     ]
    }
   ],
   "source": [
    "superhero_info = {\"Natasha Romanoff\": \"Black Widow\",\n",
    "                  \"Tony Stark\": \"Iron Man\",\n",
    "                  \"Stephen Strange\": \"Doctor Strange\"\n",
    "                  }\n",
    "\n",
    "for i in superhero_info:\n",
    "    superhero_info[i] = superhero_info[i].upper()\n",
    "\n",
    "print(superhero_info)"
   ]
  },
  {
   "cell_type": "markdown",
   "id": "a86b5262",
   "metadata": {},
   "source": [
    "## Exercise 4 :  How many ones"
   ]
  },
  {
   "cell_type": "code",
   "execution_count": 107,
   "id": "302bd223",
   "metadata": {},
   "outputs": [
    {
     "name": "stdout",
     "output_type": "stream",
     "text": [
      "9\n",
      "9\n"
     ]
    }
   ],
   "source": [
    "numbers=[45, 60, 1, 30, 96, 1, 96, 57, 16, 1,\n",
    "        99, 62, 86, 43, 42, 60, 59, 1, 1, 35,\n",
    "        83, 47, 34, 28, 68, 23, 22, 92, 1, 79,\n",
    "        1, 29, 94, 72, 46, 47, 1, 74, 32, 20,\n",
    "        8, 37, 35, 1, 89, 29, 86, 19, 43, 61]\n",
    "\n",
    "print(numbers.count(1))\n",
    "print(sum(np.array(numbers)==1))"
   ]
  }
 ],
 "metadata": {
  "kernelspec": {
   "display_name": "Python 3 (ipykernel)",
   "language": "python",
   "name": "python3"
  },
  "language_info": {
   "codemirror_mode": {
    "name": "ipython",
    "version": 3
   },
   "file_extension": ".py",
   "mimetype": "text/x-python",
   "name": "python",
   "nbconvert_exporter": "python",
   "pygments_lexer": "ipython3",
   "version": "3.10.8"
  },
  "toc": {
   "base_numbering": 1,
   "nav_menu": {},
   "number_sections": true,
   "sideBar": true,
   "skip_h1_title": false,
   "title_cell": "Table of Contents",
   "title_sidebar": "Contents",
   "toc_cell": false,
   "toc_position": {},
   "toc_section_display": true,
   "toc_window_display": false
  },
  "varInspector": {
   "cols": {
    "lenName": 16,
    "lenType": 16,
    "lenVar": 40
   },
   "kernels_config": {
    "python": {
     "delete_cmd_postfix": "",
     "delete_cmd_prefix": "del ",
     "library": "var_list.py",
     "varRefreshCmd": "print(var_dic_list())"
    },
    "r": {
     "delete_cmd_postfix": ") ",
     "delete_cmd_prefix": "rm(",
     "library": "var_list.r",
     "varRefreshCmd": "cat(var_dic_list()) "
    }
   },
   "types_to_exclude": [
    "module",
    "function",
    "builtin_function_or_method",
    "instance",
    "_Feature"
   ],
   "window_display": false
  },
  "vscode": {
   "interpreter": {
    "hash": "31f2aee4e71d21fbe5cf8b01ff0e069b9275f58929596ceb00d14d90e3e16cd6"
   }
  }
 },
 "nbformat": 4,
 "nbformat_minor": 5
}
