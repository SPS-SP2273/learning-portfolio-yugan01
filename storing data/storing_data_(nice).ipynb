{
 "cells": [
  {
   "cell_type": "markdown",
   "id": "123456",
   "metadata": {},
   "source": [
    "<div style=\"text-align:left;font-size:2em\"><span style=\"font-weight:bolder;font-size:1.25em\">SP2273 | Learning Portfolio</span><br><br><span style=\"font-weight:bold;color:darkred\">Storing Data (Nice)</span></div>"
   ]
  },
  {
   "cell_type": "markdown",
   "id": "bf218701",
   "metadata": {},
   "source": [
    "## 1 Classes"
   ]
  },
  {
   "cell_type": "markdown",
   "id": "873af942",
   "metadata": {},
   "source": [
    "### 1.1 A grave injustice"
   ]
  },
  {
   "cell_type": "code",
   "execution_count": 5,
   "id": "1478a83b",
   "metadata": {},
   "outputs": [
    {
     "data": {
      "text/plain": [
       "(3,)"
      ]
     },
     "execution_count": 5,
     "metadata": {},
     "output_type": "execute_result"
    }
   ],
   "source": [
    "[1,2,3].append(5)\n",
    "np.array([1,2,3]).shape"
   ]
  },
  {
   "cell_type": "markdown",
   "id": "dad356d5",
   "metadata": {},
   "source": [
    "### 1.2 A particle class"
   ]
  },
  {
   "cell_type": "code",
   "execution_count": 5,
   "id": "04226f4e",
   "metadata": {},
   "outputs": [
    {
     "name": "stdout",
     "output_type": "stream",
     "text": [
      "2\n",
      "4\n",
      "5\n",
      "1\n"
     ]
    }
   ],
   "source": [
    "class Particle1D:\n",
    "    \n",
    "    num_of_particles = 0\n",
    "    \n",
    "    def __init__(self, mass, position, radius):\n",
    "        self.mass = mass\n",
    "        self.position = position\n",
    "        self.radius = radius\n",
    "        self.num_of_particles +=1\n",
    "        \n",
    "particle1 = Particle1D(2, 4, 5)\n",
    "print(particle1.mass)\n",
    "print(particle1.position)\n",
    "print(particle1.radius)\n",
    "print(particle1.num_of_particles)"
   ]
  },
  {
   "cell_type": "markdown",
   "id": "ad31471e",
   "metadata": {},
   "source": [
    "### 1.3 Class vs Object variables"
   ]
  },
  {
   "cell_type": "code",
   "execution_count": 19,
   "id": "8362f64e",
   "metadata": {},
   "outputs": [
    {
     "name": "stdout",
     "output_type": "stream",
     "text": [
      " particle 0 has mass 2 and is that position 4 and has radius 5\n",
      "number of particles = 2\n"
     ]
    }
   ],
   "source": [
    "class Particle1D:\n",
    "    \n",
    "    particles = 0\n",
    "    \n",
    "    def __init__(self, mass, position, radius):\n",
    "        self.mass = mass\n",
    "        self.position = position\n",
    "        self.radius = radius\n",
    "        Particle1D.particles +=1 #should be Particle1D.particles not self.particles\n",
    "    \n",
    "    def num_of_particles(self):\n",
    "        return self.particles\n",
    "    \n",
    "        \n",
    "\n",
    "particle_0 = Particle1D(2,4,5)\n",
    "print(f\" particle 0 has mass {particle_0.mass} and is that position {particle_0.position} and has radius {particle_0.radius}\")\n",
    "\n",
    "particle_1 = Particle1D(3,6,9)\n",
    "print(f\"number of particles = {particle_1.particles}\") # counts the number of particles "
   ]
  },
  {
   "cell_type": "markdown",
   "id": "df22df13",
   "metadata": {},
   "source": [
    "### 1.4 Making it more scalable"
   ]
  },
  {
   "cell_type": "code",
   "execution_count": 23,
   "id": "cad1eb8f",
   "metadata": {},
   "outputs": [
    {
     "name": "stdout",
     "output_type": "stream",
     "text": [
      " Particle 0 is at position 0.6445519426675651\n",
      " Particle 1 is at position 0.8138108579001684\n",
      " Particle 2 is at position 0.5726661285359345\n"
     ]
    }
   ],
   "source": [
    "import numpy as np\n",
    "\n",
    "l = []\n",
    "for i in range(3):\n",
    "    l.append(Particle1D(2,np.random.rand(),4))\n",
    "    print(f\" Particle {i} is at position {l[i].position}\")\n"
   ]
  }
 ],
 "metadata": {
  "kernelspec": {
   "display_name": "Python 3 (ipykernel)",
   "language": "python",
   "name": "python3"
  },
  "language_info": {
   "codemirror_mode": {
    "name": "ipython",
    "version": 3
   },
   "file_extension": ".py",
   "mimetype": "text/x-python",
   "name": "python",
   "nbconvert_exporter": "python",
   "pygments_lexer": "ipython3",
   "version": "3.10.8"
  },
  "toc": {
   "base_numbering": 1,
   "nav_menu": {},
   "number_sections": true,
   "sideBar": true,
   "skip_h1_title": false,
   "title_cell": "Table of Contents",
   "title_sidebar": "Contents",
   "toc_cell": false,
   "toc_position": {},
   "toc_section_display": true,
   "toc_window_display": false
  },
  "varInspector": {
   "cols": {
    "lenName": 16,
    "lenType": 16,
    "lenVar": 40
   },
   "kernels_config": {
    "python": {
     "delete_cmd_postfix": "",
     "delete_cmd_prefix": "del ",
     "library": "var_list.py",
     "varRefreshCmd": "print(var_dic_list())"
    },
    "r": {
     "delete_cmd_postfix": ") ",
     "delete_cmd_prefix": "rm(",
     "library": "var_list.r",
     "varRefreshCmd": "cat(var_dic_list()) "
    }
   },
   "types_to_exclude": [
    "module",
    "function",
    "builtin_function_or_method",
    "instance",
    "_Feature"
   ],
   "window_display": false
  },
  "vscode": {
   "interpreter": {
    "hash": "31f2aee4e71d21fbe5cf8b01ff0e069b9275f58929596ceb00d14d90e3e16cd6"
   }
  }
 },
 "nbformat": 4,
 "nbformat_minor": 5
}
