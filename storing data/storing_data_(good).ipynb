{
 "cells": [
  {
   "cell_type": "markdown",
   "id": "123456",
   "metadata": {},
   "source": [
    "<div style=\"text-align:left;font-size:2em\"><span style=\"font-weight:bolder;font-size:1.25em\">SP2273 | Learning Portfolio</span><br><br><span style=\"font-weight:bold;color:darkred\">Storing Data (Good)</span></div>"
   ]
  },
  {
   "cell_type": "markdown",
   "id": "3d81fe8b",
   "metadata": {},
   "source": [
    "## 1 Subsetting: Indexing and Slicing"
   ]
  },
  {
   "cell_type": "markdown",
   "id": "858ba869",
   "metadata": {},
   "source": [
    "### 1.1 Indexing & Slicing 1D (Lists & Arrays)"
   ]
  },
  {
   "cell_type": "code",
   "execution_count": 3,
   "id": "2601a9f7",
   "metadata": {},
   "outputs": [
    {
     "data": {
      "text/plain": [
       "array(['f6', 'e5', 'd4'], dtype='<U3')"
      ]
     },
     "execution_count": 3,
     "metadata": {},
     "output_type": "execute_result"
    }
   ],
   "source": [
    "py_list=[\"a1\", \"b2\", \"c3\", \"d4\", \"e5\",\n",
    "         \"f6\", \"g7\", \"h8\", \"i9\", \"j10\"]\n",
    "\n",
    "np_array = np.array(py_list)\n",
    "\n",
    "x = np_array\n",
    "x[-1]\n",
    "\n",
    "x[5:2:-1] # output = array(['f6', 'e5', 'd4'], dtype='<U3') U is unicode, a superset of ascii"
   ]
  },
  {
   "cell_type": "markdown",
   "id": "6f0f88f6",
   "metadata": {},
   "source": [
    "### 1.2 Subsetting by masking (Arrays only)"
   ]
  },
  {
   "cell_type": "code",
   "execution_count": 21,
   "id": "15c490e8",
   "metadata": {},
   "outputs": [
    {
     "name": "stdout",
     "output_type": "stream",
     "text": [
      "[4, 5, 6, 7, 8, 9]\n",
      "[4 5 6 7 8 9]\n",
      "[6, 7, 8, 9]\n",
      "[6 7 8 9]\n",
      "[1 2 3 4 5]\n",
      "[4 5]\n",
      "[1 2 3 4 6 7 8 9]\n"
     ]
    }
   ],
   "source": [
    "py_list = [i for i in range(1,10)]\n",
    "np_array = np.array(py_list)\n",
    "my_mask = np_array > 3\n",
    "\n",
    "print(list(filter(lambda x: x>3, py_list)))\n",
    "print(np_array[my_mask])\n",
    "print(list(filter(lambda x: x>5, py_list)))\n",
    "print(np_array[np_array>5])\n",
    "\n",
    "print(np_array[~(np_array>5)]) #[1,2,3,4,5]\n",
    "print(np_array[~(np_array>5) & (np_array>3)]) #[1,2,3,4,5] & [4,5,6,7,8,9,10]\n",
    "print(np_array[~(np_array>4) | (np_array>5)]) #without 5"
   ]
  },
  {
   "cell_type": "markdown",
   "id": "e3e1e095",
   "metadata": {},
   "source": [
    "### 1.3 Indexing & Slicing 2D Lists"
   ]
  },
  {
   "cell_type": "code",
   "execution_count": 29,
   "id": "d1254bd8",
   "metadata": {},
   "outputs": [
    {
     "name": "stdout",
     "output_type": "stream",
     "text": [
      "[9, 'I']\n",
      "[[3, 'C'], [4, 'D']]\n"
     ]
    }
   ],
   "source": [
    "py = [[1, \"A\"], [2, \"B\"], [3, \"C\"], [4, \"D\"], [5, \"E\"], [6, \"F\"], [7, \"G\"], [8, \"H\"],[9, \"I\"], [10, \"J\"]]\n",
    "\n",
    "print(py[:5:-1][1]) #[[10, 'J'], [9, 'I'], [8, 'H'], [7, 'G']][1] = [9, \"I\"]\n",
    "print(py[2:4][0]) # [[3, \"C\"], [4,\"D\"]][0] = [3, \"C\"]"
   ]
  },
  {
   "cell_type": "markdown",
   "id": "e2b10f10",
   "metadata": {},
   "source": [
    "### 1.4 Indexing & Slicing 2D Arrays"
   ]
  },
  {
   "cell_type": "code",
   "execution_count": 48,
   "id": "fbcda394",
   "metadata": {},
   "outputs": [
    {
     "name": "stdout",
     "output_type": "stream",
     "text": [
      "['1' '2' '3']\n",
      "['A' 'B' 'C' 'D' 'E' 'F' 'G' 'H' 'I' 'J']\n",
      "['A', 'B', 'C', 'D', 'E', 'F', 'G', 'H', 'I', 'J']\n"
     ]
    }
   ],
   "source": [
    "np_array_2d = np.array([[1, \"A\"], [2, \"B\"], [3, \"C\"], [4, \"D\"],\n",
    "                        [5, \"E\"], [6, \"F\"], [7, \"G\"], [8, \"H\"],\n",
    "                        [9, \"I\"], [10, \"J\"]])\n",
    "\n",
    "np_array_2d[0,0]\n",
    "print(np_array_2d[:3,0])\n",
    "print(np_array_2d[:,1])\n",
    "print(list(map(list, zip(*py)))[1])"
   ]
  },
  {
   "cell_type": "markdown",
   "id": "6a86a8d7",
   "metadata": {},
   "source": [
    "### 1.5 Growing lists"
   ]
  },
  {
   "cell_type": "code",
   "execution_count": 50,
   "id": "0511e785",
   "metadata": {},
   "outputs": [
    {
     "data": {
      "text/plain": [
       "[1, 1, 1, 1, 1, 1, 1, 1, 1, 1]"
      ]
     },
     "execution_count": 50,
     "metadata": {},
     "output_type": "execute_result"
    }
   ],
   "source": [
    "x = [1]*10\n",
    "x"
   ]
  },
  {
   "cell_type": "code",
   "execution_count": 62,
   "id": "693049a1",
   "metadata": {},
   "outputs": [
    {
     "name": "stdout",
     "output_type": "stream",
     "text": [
      "[1, 1, 0, 1, 2, 3, 4, 5]\n"
     ]
    }
   ],
   "source": [
    "x = [1,1]\n",
    "x.extend([i for i in range(5)])\n",
    "x.append(5)\n",
    "print(x)"
   ]
  },
  {
   "cell_type": "markdown",
   "id": "e8ca2718",
   "metadata": {},
   "source": [
    "## 2 Some loose ends"
   ]
  },
  {
   "cell_type": "markdown",
   "id": "8b36aeb6",
   "metadata": {},
   "source": [
    "### 2.1 Tuples"
   ]
  },
  {
   "cell_type": "code",
   "execution_count": 68,
   "id": "4212017e",
   "metadata": {},
   "outputs": [],
   "source": [
    "a = (1,2,3)\n",
    "a += (3,)\n",
    "#a[0] -=1 Error"
   ]
  },
  {
   "cell_type": "markdown",
   "id": "703eedd0",
   "metadata": {},
   "source": [
    "### 2.2 Be VERY careful when copying"
   ]
  },
  {
   "cell_type": "code",
   "execution_count": 103,
   "id": "d26a8f7d",
   "metadata": {},
   "outputs": [
    {
     "name": "stdout",
     "output_type": "stream",
     "text": [
      "[1, 2, 3, [2, 3, 4]]\n",
      "[1, 2, 3, [2, 3, 4]]\n"
     ]
    }
   ],
   "source": [
    "x = [1,2,3, [2,3,4]]\n",
    "y = x.copy()\n",
    "print(y)\n",
    "from copy import deepcopy\n",
    "z = deepcopy(x) #to copy all elements including within list of lists\n",
    "print(z)"
   ]
  },
  {
   "cell_type": "markdown",
   "id": "9e1689af",
   "metadata": {},
   "source": [
    "## Exercise 1 :  Total recall?"
   ]
  },
  {
   "cell_type": "markdown",
   "id": "b94c541f",
   "metadata": {},
   "source": [
    "Subsetting - to select an element or a set of elements from an array/list\n",
    "Indexing - to select a single element from the list\n",
    "Slicing\t- to select a set of elements from an array/list\n",
    "Masking - to select an element or a set of elements that satisfies a predicate function"
   ]
  },
  {
   "cell_type": "markdown",
   "id": "498f6583",
   "metadata": {},
   "source": [
    "## Exercise 2 :  Show me the ‘odd’ letters"
   ]
  },
  {
   "cell_type": "code",
   "execution_count": 102,
   "id": "b8acdfe0",
   "metadata": {},
   "outputs": [
    {
     "name": "stdout",
     "output_type": "stream",
     "text": [
      "['A' 'C' 'E' 'G' 'I']\n",
      "['A' 'C' 'E' 'G' 'I']\n"
     ]
    }
   ],
   "source": [
    "n = np.array([[1, \"A\"], [3, \"C\"], [2, \"B\"], [4, \"D\"],\n",
    "                        [5, \"E\"], [7, \"G\"], [6, \"F\"], [8, \"H\"],\n",
    "                        [10, \"J\"], [9, \"I\"]])\n",
    "#method 1\n",
    "print(np.array(list(filter(lambda x: int(x[0])%2, n)))[:,1])\n",
    "\n",
    "#method 2\n",
    "a = n[:,0] # to get array(['1', '3', '2', ..., '10', '9'])\n",
    "a = a.astype(int) #to convert to int\n",
    "a = a%2 # output [1,1,0,0,1,1,0,0,0,1]\n",
    "print(n[a==1][:,1]) #output mask [['1' 'A'], ['3' 'C'], ['5' 'E'], ['7' 'G'], ['9' 'I']] and takes the 1th element \n"
   ]
  }
 ],
 "metadata": {
  "kernelspec": {
   "display_name": "Python 3 (ipykernel)",
   "language": "python",
   "name": "python3"
  },
  "language_info": {
   "codemirror_mode": {
    "name": "ipython",
    "version": 3
   },
   "file_extension": ".py",
   "mimetype": "text/x-python",
   "name": "python",
   "nbconvert_exporter": "python",
   "pygments_lexer": "ipython3",
   "version": "3.10.8"
  },
  "toc": {
   "base_numbering": 1,
   "nav_menu": {},
   "number_sections": true,
   "sideBar": true,
   "skip_h1_title": false,
   "title_cell": "Table of Contents",
   "title_sidebar": "Contents",
   "toc_cell": false,
   "toc_position": {},
   "toc_section_display": true,
   "toc_window_display": false
  },
  "varInspector": {
   "cols": {
    "lenName": 16,
    "lenType": 16,
    "lenVar": 40
   },
   "kernels_config": {
    "python": {
     "delete_cmd_postfix": "",
     "delete_cmd_prefix": "del ",
     "library": "var_list.py",
     "varRefreshCmd": "print(var_dic_list())"
    },
    "r": {
     "delete_cmd_postfix": ") ",
     "delete_cmd_prefix": "rm(",
     "library": "var_list.r",
     "varRefreshCmd": "cat(var_dic_list()) "
    }
   },
   "types_to_exclude": [
    "module",
    "function",
    "builtin_function_or_method",
    "instance",
    "_Feature"
   ],
   "window_display": false
  },
  "vscode": {
   "interpreter": {
    "hash": "31f2aee4e71d21fbe5cf8b01ff0e069b9275f58929596ceb00d14d90e3e16cd6"
   }
  }
 },
 "nbformat": 4,
 "nbformat_minor": 5
}
