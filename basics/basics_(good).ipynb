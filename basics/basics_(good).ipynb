{
 "cells": [
  {
   "cell_type": "markdown",
   "id": "123456",
   "metadata": {},
   "source": [
    "<div style=\"text-align:left;font-size:2em\"><span style=\"font-weight:bolder;font-size:1.25em\">SP2273 | Learning Portfolio</span><br><br><span style=\"font-weight:bold;color:darkred\">Basics (Good)</span></div>"
   ]
  },
  {
   "cell_type": "markdown",
   "id": "a8c25771",
   "metadata": {},
   "source": [
    "## 1 More Python Basics"
   ]
  },
  {
   "cell_type": "markdown",
   "id": "cb739c5c",
   "metadata": {},
   "source": [
    "### 1.1 Computers read = from Right to Left!"
   ]
  },
  {
   "cell_type": "code",
   "execution_count": 1,
   "id": "422d0cd2",
   "metadata": {},
   "outputs": [
    {
     "name": "stdout",
     "output_type": "stream",
     "text": [
      "44\n"
     ]
    }
   ],
   "source": [
    "x = 10\n",
    "y = x + 12 # y is now 22\n",
    "y = y + 22 #y is now 44\n",
    "print(y)\n"
   ]
  },
  {
   "cell_type": "markdown",
   "id": "b0044a11",
   "metadata": {},
   "source": [
    "### 1.2 Shorter and cleaner"
   ]
  },
  {
   "cell_type": "code",
   "execution_count": 5,
   "id": "b03666eb",
   "metadata": {},
   "outputs": [
    {
     "name": "stdout",
     "output_type": "stream",
     "text": [
      "0\n"
     ]
    }
   ],
   "source": [
    "y = 20\n",
    "y **= 2 # y = y squared\n",
    "y %= 2 # y = y % 2\n",
    "print(y)"
   ]
  },
  {
   "cell_type": "markdown",
   "id": "e35d20cf",
   "metadata": {},
   "source": [
    "### 1.3 Asking questions"
   ]
  },
  {
   "cell_type": "code",
   "execution_count": 7,
   "id": "182babd1",
   "metadata": {},
   "outputs": [],
   "source": [
    "fruits = [\"apple\", \"banana\", \"pineapple\", \"jackfruit\"]\n",
    "vegetables = [\"celery\", \"potato\", \"broccoli\", \"kale\"]"
   ]
  },
  {
   "cell_type": "code",
   "execution_count": 8,
   "id": "2ac59de8",
   "metadata": {},
   "outputs": [
    {
     "data": {
      "text/plain": [
       "True"
      ]
     },
     "execution_count": 8,
     "metadata": {},
     "output_type": "execute_result"
    }
   ],
   "source": [
    "\"apple\" in fruits"
   ]
  },
  {
   "cell_type": "code",
   "execution_count": 9,
   "id": "757c8141",
   "metadata": {},
   "outputs": [
    {
     "data": {
      "text/plain": [
       "False"
      ]
     },
     "execution_count": 9,
     "metadata": {},
     "output_type": "execute_result"
    }
   ],
   "source": [
    "\"peach\" in fruits"
   ]
  },
  {
   "cell_type": "code",
   "execution_count": 10,
   "id": "dea2b6d3",
   "metadata": {},
   "outputs": [
    {
     "data": {
      "text/plain": [
       "True"
      ]
     },
     "execution_count": 10,
     "metadata": {},
     "output_type": "execute_result"
    }
   ],
   "source": [
    "\"peach\" not in fruits"
   ]
  },
  {
   "cell_type": "code",
   "execution_count": 11,
   "id": "8f1963e3",
   "metadata": {},
   "outputs": [
    {
     "data": {
      "text/plain": [
       "True"
      ]
     },
     "execution_count": 11,
     "metadata": {},
     "output_type": "execute_result"
    }
   ],
   "source": [
    "(\"apple\" in fruits) and (\"celery\" in vegetables)"
   ]
  },
  {
   "cell_type": "code",
   "execution_count": 12,
   "id": "3c809dc5",
   "metadata": {},
   "outputs": [
    {
     "data": {
      "text/plain": [
       "True"
      ]
     },
     "execution_count": 12,
     "metadata": {},
     "output_type": "execute_result"
    }
   ],
   "source": [
    "(\"apple\" in fruits) or (\"celery\" in vegetables)"
   ]
  },
  {
   "cell_type": "code",
   "execution_count": 13,
   "id": "15cdd8f8",
   "metadata": {},
   "outputs": [
    {
     "data": {
      "text/plain": [
       "True"
      ]
     },
     "execution_count": 13,
     "metadata": {},
     "output_type": "execute_result"
    }
   ],
   "source": [
    "\"a\" > \"A\""
   ]
  },
  {
   "cell_type": "code",
   "execution_count": 14,
   "id": "e360b882",
   "metadata": {},
   "outputs": [
    {
     "data": {
      "text/plain": [
       "False"
      ]
     },
     "execution_count": 14,
     "metadata": {},
     "output_type": "execute_result"
    }
   ],
   "source": [
    "\"abc\" > \"abcd\""
   ]
  },
  {
   "cell_type": "markdown",
   "id": "2d381a8f",
   "metadata": {},
   "source": [
    "### 1.4 There is more to if"
   ]
  },
  {
   "cell_type": "code",
   "execution_count": 15,
   "id": "70680e4f",
   "metadata": {},
   "outputs": [
    {
     "name": "stdout",
     "output_type": "stream",
     "text": [
      "a is not 20 nor 15, a = 10\n"
     ]
    }
   ],
   "source": [
    "a = 10\n",
    "if a == 20:\n",
    "    print('a =', 20)\n",
    "elif a == 15:\n",
    "    print(\"a =\", 15)\n",
    "else:\n",
    "    print(\"a is not 20 nor 15, a =\", a)"
   ]
  },
  {
   "cell_type": "markdown",
   "id": "f2d21f15",
   "metadata": {},
   "source": [
    "### 1.5 Python stores information in different formats or types."
   ]
  },
  {
   "cell_type": "code",
   "execution_count": 26,
   "id": "20f02595",
   "metadata": {},
   "outputs": [
    {
     "name": "stdout",
     "output_type": "stream",
     "text": [
      "9.0\n",
      "1.234\n",
      "<class 'complex'>\n"
     ]
    },
    {
     "data": {
      "text/plain": [
       "int"
      ]
     },
     "execution_count": 26,
     "metadata": {},
     "output_type": "execute_result"
    }
   ],
   "source": [
    "x = complex(1.234, 9)\n",
    "print(x.imag)\n",
    "print(x.real)\n",
    "print(type(x))\n",
    "\n",
    "y = 9\n",
    "float(y) == int(9)\n",
    "type(y)"
   ]
  },
  {
   "cell_type": "markdown",
   "id": "a567ddb9",
   "metadata": {},
   "source": [
    "### 1.6 Combining English and variables"
   ]
  },
  {
   "cell_type": "code",
   "execution_count": 4,
   "id": "6a83e3ab",
   "metadata": {},
   "outputs": [
    {
     "name": "stdout",
     "output_type": "stream",
     "text": [
      "batman\n",
      "    batman\n",
      "batman\n",
      "The cost of an ice milo is 1.50\n",
      "The distance from the Earth to the Moon is 3.844e+08m\n",
      "the date today is 17/01/2023\n"
     ]
    }
   ],
   "source": [
    "name = \"batman\"\n",
    "print(f'{name}')\n",
    "print(f\"{name:>10}\")\n",
    "print(f\"{name:}\")\n",
    "print(f\"The cost of an ice milo is {1.5:.2f}\")\n",
    "print(f\"The distance from the Earth to the Moon is {384400000:.3e}m\")\n",
    "print(f'the date today is 17/{1:02d}/2023')"
   ]
  },
  {
   "cell_type": "markdown",
   "id": "c2082500",
   "metadata": {},
   "source": [
    "### 1.7 Python can be a prima-donna."
   ]
  },
  {
   "cell_type": "code",
   "execution_count": 6,
   "id": "500f321d",
   "metadata": {},
   "outputs": [
    {
     "name": "stdout",
     "output_type": "stream",
     "text": [
      "Hello World!\n"
     ]
    }
   ],
   "source": [
    "Print(\"Hello World!\") #should be print(\"Hello World!\")\n"
   ]
  },
  {
   "cell_type": "markdown",
   "id": "78ffa218",
   "metadata": {},
   "source": [
    "## 2 Best Practices for Scientific Computing"
   ]
  },
  {
   "cell_type": "markdown",
   "id": "dfa00f7e",
   "metadata": {},
   "source": [
    "### 2.1 Some tips"
   ]
  },
  {
   "cell_type": "markdown",
   "id": "986ebcc9",
   "metadata": {},
   "source": [
    "Some guiding principles \n",
    "1. Write programs to be readable \n",
    "2. Optimise code after it works\n",
    "3. Take note of the algorithm design and objective\n",
    "4. Work with others\n"
   ]
  },
  {
   "cell_type": "markdown",
   "id": "be202ee5",
   "metadata": {},
   "source": [
    "### 2.2 Getting help."
   ]
  },
  {
   "cell_type": "code",
   "execution_count": 7,
   "id": "368d2552",
   "metadata": {},
   "outputs": [
    {
     "name": "stdout",
     "output_type": "stream",
     "text": [
      "Help on class type in module builtins:\n",
      "\n",
      "class type(object)\n",
      " |  type(object) -> the object's type\n",
      " |  type(name, bases, dict, **kwds) -> a new type\n",
      " |  \n",
      " |  Methods defined here:\n",
      " |  \n",
      " |  __call__(self, /, *args, **kwargs)\n",
      " |      Call self as a function.\n",
      " |  \n",
      " |  __delattr__(self, name, /)\n",
      " |      Implement delattr(self, name).\n",
      " |  \n",
      " |  __dir__(self, /)\n",
      " |      Specialized __dir__ implementation for types.\n",
      " |  \n",
      " |  __getattribute__(self, name, /)\n",
      " |      Return getattr(self, name).\n",
      " |  \n",
      " |  __init__(self, /, *args, **kwargs)\n",
      " |      Initialize self.  See help(type(self)) for accurate signature.\n",
      " |  \n",
      " |  __instancecheck__(self, instance, /)\n",
      " |      Check if an object is an instance.\n",
      " |  \n",
      " |  __or__(self, value, /)\n",
      " |      Return self|value.\n",
      " |  \n",
      " |  __repr__(self, /)\n",
      " |      Return repr(self).\n",
      " |  \n",
      " |  __ror__(self, value, /)\n",
      " |      Return value|self.\n",
      " |  \n",
      " |  __setattr__(self, name, value, /)\n",
      " |      Implement setattr(self, name, value).\n",
      " |  \n",
      " |  __sizeof__(self, /)\n",
      " |      Return memory consumption of the type object.\n",
      " |  \n",
      " |  __subclasscheck__(self, subclass, /)\n",
      " |      Check if a class is a subclass.\n",
      " |  \n",
      " |  __subclasses__(self, /)\n",
      " |      Return a list of immediate subclasses.\n",
      " |  \n",
      " |  mro(self, /)\n",
      " |      Return a type's method resolution order.\n",
      " |  \n",
      " |  ----------------------------------------------------------------------\n",
      " |  Class methods defined here:\n",
      " |  \n",
      " |  __prepare__(...)\n",
      " |      __prepare__() -> dict\n",
      " |      used to create the namespace for the class statement\n",
      " |  \n",
      " |  ----------------------------------------------------------------------\n",
      " |  Static methods defined here:\n",
      " |  \n",
      " |  __new__(*args, **kwargs)\n",
      " |      Create and return a new object.  See help(type) for accurate signature.\n",
      " |  \n",
      " |  ----------------------------------------------------------------------\n",
      " |  Data descriptors defined here:\n",
      " |  \n",
      " |  __abstractmethods__\n",
      " |  \n",
      " |  __annotations__\n",
      " |  \n",
      " |  __dict__\n",
      " |  \n",
      " |  __text_signature__\n",
      " |  \n",
      " |  ----------------------------------------------------------------------\n",
      " |  Data and other attributes defined here:\n",
      " |  \n",
      " |  __base__ = <class 'object'>\n",
      " |      The base class of the class hierarchy.\n",
      " |      \n",
      " |      When called, it accepts no arguments and returns a new featureless\n",
      " |      instance that has no instance attributes and cannot be given any.\n",
      " |  \n",
      " |  \n",
      " |  __bases__ = (<class 'object'>,)\n",
      " |  \n",
      " |  __basicsize__ = 888\n",
      " |  \n",
      " |  __dictoffset__ = 264\n",
      " |  \n",
      " |  __flags__ = 2148031744\n",
      " |  \n",
      " |  __itemsize__ = 40\n",
      " |  \n",
      " |  __mro__ = (<class 'type'>, <class 'object'>)\n",
      " |  \n",
      " |  __weakrefoffset__ = 368\n",
      "\n"
     ]
    }
   ],
   "source": [
    "help(type)"
   ]
  },
  {
   "cell_type": "markdown",
   "id": "d6a21b1c",
   "metadata": {},
   "source": [
    "## Exercise 1 :  Bias for some heroes"
   ]
  },
  {
   "cell_type": "code",
   "execution_count": null,
   "id": "c9a911ea",
   "metadata": {},
   "outputs": [],
   "source": [
    "def hello(name):\n",
    "    if name == \"Batman\" or name == \"Black Widow\":\n",
    "        print(\"Hello \" + name.upper() + \"!\")\n",
    "    else:\n",
    "        print(\"Hello \" + name.lower() + \"!\")\n",
    "hello(\"Batman\")\n",
    "hello(\"Yugan\")\n"
   ]
  },
  {
   "cell_type": "markdown",
   "id": "f9f82a47",
   "metadata": {},
   "source": [
    "## Exercise 2 :  Bias for some heroes, continues"
   ]
  },
  {
   "cell_type": "code",
   "execution_count": 13,
   "id": "fa06de31",
   "metadata": {},
   "outputs": [
    {
     "name": "stdout",
     "output_type": "stream",
     "text": [
      "Hello BATMAN!\n",
      "Hello yugan!\n"
     ]
    }
   ],
   "source": [
    "def hello(name):\n",
    "    if name.lower() == \"batman\" or name.lower() == \"black widow\":\n",
    "        print(\"Hello \" + name.upper() + \"!\")\n",
    "    else:\n",
    "        print(\"Hello \" + name.lower() + \"!\")\n",
    "hello(\"baTman\")\n",
    "hello(\"Yugan\")"
   ]
  },
  {
   "cell_type": "markdown",
   "id": "a9362611",
   "metadata": {},
   "source": [
    "## Exercise 3 :  Look for help to replace"
   ]
  },
  {
   "cell_type": "code",
   "execution_count": 14,
   "id": "27c15030",
   "metadata": {},
   "outputs": [
    {
     "data": {
      "text/plain": [
       "'The Batman lives in Gotham City.'"
      ]
     },
     "execution_count": 14,
     "metadata": {},
     "output_type": "execute_result"
    }
   ],
   "source": [
    "s = 'The Joker lives in Gotham City.'\n",
    "s.replace(\"Joker\", \"Batman\")"
   ]
  }
 ],
 "metadata": {
  "kernelspec": {
   "display_name": "Python 3 (ipykernel)",
   "language": "python",
   "name": "python3"
  },
  "language_info": {
   "codemirror_mode": {
    "name": "ipython",
    "version": 3
   },
   "file_extension": ".py",
   "mimetype": "text/x-python",
   "name": "python",
   "nbconvert_exporter": "python",
   "pygments_lexer": "ipython3",
   "version": "3.10.8"
  },
  "toc": {
   "base_numbering": 1,
   "nav_menu": {},
   "number_sections": true,
   "sideBar": true,
   "skip_h1_title": false,
   "title_cell": "Table of Contents",
   "title_sidebar": "Contents",
   "toc_cell": false,
   "toc_position": {},
   "toc_section_display": true,
   "toc_window_display": false
  },
  "varInspector": {
   "cols": {
    "lenName": 16,
    "lenType": 16,
    "lenVar": 40
   },
   "kernels_config": {
    "python": {
     "delete_cmd_postfix": "",
     "delete_cmd_prefix": "del ",
     "library": "var_list.py",
     "varRefreshCmd": "print(var_dic_list())"
    },
    "r": {
     "delete_cmd_postfix": ") ",
     "delete_cmd_prefix": "rm(",
     "library": "var_list.r",
     "varRefreshCmd": "cat(var_dic_list()) "
    }
   },
   "types_to_exclude": [
    "module",
    "function",
    "builtin_function_or_method",
    "instance",
    "_Feature"
   ],
   "window_display": false
  },
  "vscode": {
   "interpreter": {
    "hash": "31f2aee4e71d21fbe5cf8b01ff0e069b9275f58929596ceb00d14d90e3e16cd6"
   }
  }
 },
 "nbformat": 4,
 "nbformat_minor": 5
}
