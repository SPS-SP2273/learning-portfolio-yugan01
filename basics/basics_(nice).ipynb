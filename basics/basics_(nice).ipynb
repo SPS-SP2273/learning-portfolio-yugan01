{
 "cells": [
  {
   "cell_type": "markdown",
   "id": "123456",
   "metadata": {},
   "source": [
    "<div style=\"text-align:left;font-size:2em\"><span style=\"font-weight:bolder;font-size:1.25em\">SP2273 | Learning Portfolio</span><br><br><span style=\"font-weight:bold;color:darkred\">Basics (Nice)</span></div>"
   ]
  },
  {
   "cell_type": "markdown",
   "id": "000d6a5e",
   "metadata": {},
   "source": [
    "## 1 Beyond Python Basics"
   ]
  },
  {
   "cell_type": "markdown",
   "id": "001a5311",
   "metadata": {},
   "source": [
    "### 1.1 If if is not enough"
   ]
  },
  {
   "cell_type": "code",
   "execution_count": 5,
   "id": "d9f94029",
   "metadata": {},
   "outputs": [
    {
     "name": "stdout",
     "output_type": "stream",
     "text": [
      "hello bye\n"
     ]
    }
   ],
   "source": [
    "name = 'hello'\n",
    "name = 'hellohello'\n",
    "match name:\n",
    "    case 'hello':          # if name == 'hello'\n",
    "        print(\"hello!\")\n",
    "    case 'goodbye':        # elif name == 'goodbye'\n",
    "        print(\"bye\")\n",
    "    case _:                # else\n",
    "        print(\"hello bye\") \n"
   ]
  },
  {
   "cell_type": "markdown",
   "id": "d2350015",
   "metadata": {},
   "source": [
    "### 1.2 Ternary operators or Conditional Statements"
   ]
  },
  {
   "cell_type": "code",
   "execution_count": 11,
   "id": "7679a985",
   "metadata": {},
   "outputs": [
    {
     "name": "stdout",
     "output_type": "stream",
     "text": [
      "odd\n"
     ]
    },
    {
     "data": {
      "text/plain": [
       "'odd'"
      ]
     },
     "execution_count": 11,
     "metadata": {},
     "output_type": "execute_result"
    }
   ],
   "source": [
    "n = 17\n",
    "a = 'even' if not n%2 else 'odd'\n",
    "print(a)\n",
    "\n",
    "('even', 'odd')[n%2] # this outputs the index of the tuple and \n",
    "                    # for this to function as a ternary operator, \n",
    "                    # the correct name should always be in the 2nd position as true evaluates to 1 "
   ]
  },
  {
   "cell_type": "markdown",
   "id": "229e4c33",
   "metadata": {},
   "source": [
    "### 1.3 Swapping values"
   ]
  },
  {
   "cell_type": "code",
   "execution_count": 13,
   "id": "2e516077",
   "metadata": {},
   "outputs": [
    {
     "name": "stdout",
     "output_type": "stream",
     "text": [
      "2 3 1\n"
     ]
    }
   ],
   "source": [
    "a, b, c = 1, 2, 3\n",
    "c, a, b = a, b, c # a, b, c = 2, 3, 1\n",
    "print(a, b, c)"
   ]
  },
  {
   "cell_type": "markdown",
   "id": "255ba62e",
   "metadata": {},
   "source": [
    "### 1.4 Never compare floats directly"
   ]
  },
  {
   "cell_type": "code",
   "execution_count": 2,
   "id": "9586a3b8",
   "metadata": {},
   "outputs": [
    {
     "name": "stdout",
     "output_type": "stream",
     "text": [
      "False\n",
      "False\n",
      "0.29999999999999999\n",
      "True\n",
      "True\n",
      "True\n"
     ]
    }
   ],
   "source": [
    "a = 1/49*49\n",
    "b = 1\n",
    "print(a == b) # False as 0.9999999 != 1\n",
    "\n",
    "a = 0.1\n",
    "a3 = 0.3\n",
    "print(a*3 == a3) # False as 0.300000004 != 0.3\n",
    "\n",
    "print(f\"{0.3:1.17f}\")\n",
    "eps = 1E-10\n",
    "print(abs(a*3 - a3) <eps)\n",
    "\n",
    "import numpy\n",
    "print(np.isclose(a*3, a3))\n",
    "\n",
    "from decimal import Decimal \n",
    "a = Decimal('0.1')\n",
    "a3 = Decimal('0.3')\n",
    "print(a*3 == a3) # Using Decimal package to mitigate floating point errors\n",
    "                 # however, the inputs must be in string format"
   ]
  },
  {
   "cell_type": "markdown",
   "id": "a0a042f6",
   "metadata": {},
   "source": [
    "### 1.5 Operator precedance"
   ]
  },
  {
   "cell_type": "code",
   "execution_count": 46,
   "id": "68026cb9",
   "metadata": {},
   "outputs": [
    {
     "name": "stdout",
     "output_type": "stream",
     "text": [
      "True\n",
      "True\n",
      "False\n"
     ]
    },
    {
     "ename": "NameError",
     "evalue": "name 'unKnownVariable' is not defined",
     "output_type": "error",
     "traceback": [
      "\u001b[1;31m---------------------------------------------------------------------------\u001b[0m",
      "\u001b[1;31mNameError\u001b[0m                                 Traceback (most recent call last)",
      "Cell \u001b[1;32mIn[46], line 4\u001b[0m\n\u001b[0;32m      2\u001b[0m \u001b[38;5;28mprint\u001b[39m(\u001b[38;5;28;01mTrue\u001b[39;00m \u001b[38;5;129;01mor\u001b[39;00m unKnownVariable) \u001b[38;5;66;03m# no error given as True has bypassed the unKnownVariable\u001b[39;00m\n\u001b[0;32m      3\u001b[0m \u001b[38;5;28mprint\u001b[39m(\u001b[38;5;28;01mFalse\u001b[39;00m \u001b[38;5;129;01mand\u001b[39;00m unKnownVariable) \u001b[38;5;66;03m# no error given as False has bypassed the unKnownVaribale\u001b[39;00m\n\u001b[1;32m----> 4\u001b[0m \u001b[38;5;28mprint\u001b[39m(\u001b[43munKnownVariable\u001b[49m \u001b[38;5;129;01mor\u001b[39;00m \u001b[38;5;28;01mTrue\u001b[39;00m) \u001b[38;5;66;03m# eror\u001b[39;00m\n",
      "\u001b[1;31mNameError\u001b[0m: name 'unKnownVariable' is not defined"
     ]
    }
   ],
   "source": [
    "print(True or False and False) # and is evaluated first => True or False => True\n",
    "print(True or unKnownVariable) # no error given as True has bypassed the unKnownVariable\n",
    "print(False and unKnownVariable) # no error given as False has bypassed the unKnownVaribale\n",
    "print(unKnownVariable or True) # error given as unKnownVariable is evaluated first"
   ]
  },
  {
   "cell_type": "code",
   "execution_count": 48,
   "id": "27d78142",
   "metadata": {},
   "outputs": [
    {
     "data": {
      "text/plain": [
       "{1, 5, 6}"
      ]
     },
     "execution_count": 48,
     "metadata": {},
     "output_type": "execute_result"
    }
   ],
   "source": [
    "{1,2,3} - {2,3,4} ^ {5,6} # - is evaluated first => {1} ^ {5,6} => {1,5,6}"
   ]
  },
  {
   "cell_type": "markdown",
   "id": "7ce9cacf",
   "metadata": {},
   "source": [
    "## 2 Variables in Python"
   ]
  },
  {
   "cell_type": "markdown",
   "id": "8707b49e",
   "metadata": {},
   "source": [
    "### 2.1 Variables in Python are just names"
   ]
  },
  {
   "cell_type": "code",
   "execution_count": 17,
   "id": "b71cf866",
   "metadata": {},
   "outputs": [
    {
     "name": "stdout",
     "output_type": "stream",
     "text": [
      "[[1, 2, 4], 3]\n",
      "True\n",
      "[1, 2] [1, 2, 3]\n",
      "True\n",
      "False\n"
     ]
    }
   ],
   "source": [
    "x = [1,2]\n",
    "y = [x, 3]\n",
    "x.append(4) # both x and y are changed \n",
    "print(y) # [[1,2,4],3]\n",
    "\n",
    "print(id(x) == id(y[0]))\n",
    "\n",
    "x = [1,2]\n",
    "y = x.copy()\n",
    "y.append(3)\n",
    "print(x,y)\n",
    "\n",
    "a = [1,2,[1,2]]\n",
    "b = a.copy()\n",
    "a[2].append(3) # still affects b as .copy() does not copy list within a list\n",
    "print(b==a) # for coping list within list, copy.deepcopy() should be used \n",
    "\n",
    "from copy import deepcopy\n",
    "\n",
    "a = [1,2, [1,2]]\n",
    "b = deepcopy(a)\n",
    "a[2].append(3)\n",
    "print(b==a)"
   ]
  },
  {
   "cell_type": "markdown",
   "id": "44b9c00d",
   "metadata": {},
   "source": [
    "### 2.2 == is not the same as is"
   ]
  },
  {
   "cell_type": "code",
   "execution_count": 24,
   "id": "b5817601",
   "metadata": {},
   "outputs": [
    {
     "name": "stdout",
     "output_type": "stream",
     "text": [
      "True\n",
      "True\n",
      "True\n",
      "False\n"
     ]
    }
   ],
   "source": [
    "x = 0\n",
    "y = 1\n",
    "print(y == True)\n",
    "print(x == 0 ==False)\n",
    "print(type(x) == int)\n",
    "print(type(x) == bool) # x is not a bool, its an integer whose boolean value is False"
   ]
  }
 ],
 "metadata": {
  "kernelspec": {
   "display_name": "Python 3 (ipykernel)",
   "language": "python",
   "name": "python3"
  },
  "language_info": {
   "codemirror_mode": {
    "name": "ipython",
    "version": 3
   },
   "file_extension": ".py",
   "mimetype": "text/x-python",
   "name": "python",
   "nbconvert_exporter": "python",
   "pygments_lexer": "ipython3",
   "version": "3.10.8"
  },
  "toc": {
   "base_numbering": 1,
   "nav_menu": {},
   "number_sections": true,
   "sideBar": true,
   "skip_h1_title": false,
   "title_cell": "Table of Contents",
   "title_sidebar": "Contents",
   "toc_cell": false,
   "toc_position": {},
   "toc_section_display": true,
   "toc_window_display": false
  },
  "varInspector": {
   "cols": {
    "lenName": 16,
    "lenType": 16,
    "lenVar": 40
   },
   "kernels_config": {
    "python": {
     "delete_cmd_postfix": "",
     "delete_cmd_prefix": "del ",
     "library": "var_list.py",
     "varRefreshCmd": "print(var_dic_list())"
    },
    "r": {
     "delete_cmd_postfix": ") ",
     "delete_cmd_prefix": "rm(",
     "library": "var_list.r",
     "varRefreshCmd": "cat(var_dic_list()) "
    }
   },
   "types_to_exclude": [
    "module",
    "function",
    "builtin_function_or_method",
    "instance",
    "_Feature"
   ],
   "window_display": false
  },
  "vscode": {
   "interpreter": {
    "hash": "31f2aee4e71d21fbe5cf8b01ff0e069b9275f58929596ceb00d14d90e3e16cd6"
   }
  }
 },
 "nbformat": 4,
 "nbformat_minor": 5
}
