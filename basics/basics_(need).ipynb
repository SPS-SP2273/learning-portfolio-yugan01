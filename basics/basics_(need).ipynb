{
 "cells": [
  {
   "cell_type": "markdown",
   "id": "123456",
   "metadata": {},
   "source": [
    "<div style=\"text-align:left;font-size:2em\"><span style=\"font-weight:bolder;font-size:1.25em\">SP2273 | Learning Portfolio</span><br><br><span style=\"font-weight:bold;color:darkred\">Basics (Need)</span></div>"
   ]
  },
  {
   "cell_type": "markdown",
   "id": "9452c7e8",
   "metadata": {},
   "source": [
    "## 1 Some Python Basics"
   ]
  },
  {
   "cell_type": "markdown",
   "id": "1741b86d",
   "metadata": {},
   "source": [
    "### 1.1 Functions"
   ]
  },
  {
   "cell_type": "code",
   "execution_count": 6,
   "id": "e737673c",
   "metadata": {},
   "outputs": [
    {
     "name": "stdout",
     "output_type": "stream",
     "text": [
      "19\n",
      "19\n"
     ]
    }
   ],
   "source": [
    "print(input())"
   ]
  },
  {
   "cell_type": "markdown",
   "id": "44594358",
   "metadata": {},
   "source": [
    "### 1.2 Python is interpreted"
   ]
  },
  {
   "cell_type": "code",
   "execution_count": 4,
   "id": "e808525f",
   "metadata": {},
   "outputs": [
    {
     "name": "stdout",
     "output_type": "stream",
     "text": [
      "Hello World\n",
      "Hello World again\n"
     ]
    }
   ],
   "source": [
    "print('Hello World')\n",
    "print('Hello World again')"
   ]
  },
  {
   "cell_type": "markdown",
   "id": "e9f6cee6",
   "metadata": {},
   "source": [
    "### 1.3 Python is sensitive."
   ]
  },
  {
   "cell_type": "code",
   "execution_count": 5,
   "id": "d6769c65",
   "metadata": {},
   "outputs": [
    {
     "ename": "NameError",
     "evalue": "name 'Print' is not defined",
     "output_type": "error",
     "traceback": [
      "\u001b[1;31m---------------------------------------------------------------------------\u001b[0m",
      "\u001b[1;31mNameError\u001b[0m                                 Traceback (most recent call last)",
      "Cell \u001b[1;32mIn[5], line 1\u001b[0m\n\u001b[1;32m----> 1\u001b[0m \u001b[43mPrint\u001b[49m(\u001b[38;5;124m\"\u001b[39m\u001b[38;5;124mHello\u001b[39m\u001b[38;5;124m\"\u001b[39m)\n\u001b[0;32m      2\u001b[0m \u001b[38;5;28mprint\u001b[39m(\u001b[38;5;124m\"\u001b[39m\u001b[38;5;124mHello\u001b[39m\u001b[38;5;124m\"\u001b[39m)\n",
      "\u001b[1;31mNameError\u001b[0m: name 'Print' is not defined"
     ]
    }
   ],
   "source": [
    "Print(\"Hello\")\n",
    "print(\"Hello\")"
   ]
  },
  {
   "cell_type": "markdown",
   "id": "5129ec9b",
   "metadata": {},
   "source": [
    "### 1.4 Comments"
   ]
  },
  {
   "cell_type": "code",
   "execution_count": 8,
   "id": "d984dbba",
   "metadata": {},
   "outputs": [
    {
     "name": "stdout",
     "output_type": "stream",
     "text": [
      "1 + 1 = 2\n"
     ]
    }
   ],
   "source": [
    "print(\"1 + 1 =\", 1+1) #printing the sum of 1+1\n"
   ]
  },
  {
   "cell_type": "markdown",
   "id": "9af06e61",
   "metadata": {},
   "source": [
    "### 1.5 = is not the same as =="
   ]
  },
  {
   "cell_type": "code",
   "execution_count": 11,
   "id": "56108277",
   "metadata": {},
   "outputs": [
    {
     "data": {
      "text/plain": [
       "False"
      ]
     },
     "execution_count": 11,
     "metadata": {},
     "output_type": "execute_result"
    }
   ],
   "source": [
    "True == False"
   ]
  },
  {
   "cell_type": "code",
   "execution_count": 12,
   "id": "fd9b80aa",
   "metadata": {},
   "outputs": [
    {
     "data": {
      "text/plain": [
       "True"
      ]
     },
     "execution_count": 12,
     "metadata": {},
     "output_type": "execute_result"
    }
   ],
   "source": [
    "float(9) == int(9)"
   ]
  },
  {
   "cell_type": "markdown",
   "id": "ece3460e",
   "metadata": {},
   "source": [
    "### 1.6 Use if to make decisions"
   ]
  },
  {
   "cell_type": "code",
   "execution_count": 13,
   "id": "3366c638",
   "metadata": {},
   "outputs": [
    {
     "name": "stdout",
     "output_type": "stream",
     "text": [
      "number 1 is odd\n"
     ]
    }
   ],
   "source": [
    "number = 1\n",
    "\n",
    "if number %2:\n",
    "    print(\"number\", number, \"is odd\")\n",
    "else:\n",
    "    print(\"number\", number, \"is even\")\n"
   ]
  },
  {
   "cell_type": "markdown",
   "id": "5fbf1cac",
   "metadata": {},
   "source": [
    "### 1.7 Indentations (spaces) are sooo IMPORTANT!"
   ]
  },
  {
   "cell_type": "code",
   "execution_count": 14,
   "id": "8628f00d",
   "metadata": {},
   "outputs": [
    {
     "ename": "IndentationError",
     "evalue": "unexpected indent (2052913028.py, line 2)",
     "output_type": "error",
     "traceback": [
      "\u001b[1;36m  Cell \u001b[1;32mIn[14], line 2\u001b[1;36m\u001b[0m\n\u001b[1;33m    print(a)\u001b[0m\n\u001b[1;37m    ^\u001b[0m\n\u001b[1;31mIndentationError\u001b[0m\u001b[1;31m:\u001b[0m unexpected indent\n"
     ]
    }
   ],
   "source": [
    "a = 90\n",
    "    print(a)\n"
   ]
  },
  {
   "cell_type": "markdown",
   "id": "828fbcdb",
   "metadata": {},
   "source": [
    "### 1.8 ‘age’ is English, age is a variable."
   ]
  },
  {
   "cell_type": "code",
   "execution_count": 15,
   "id": "a60b29d5",
   "metadata": {},
   "outputs": [
    {
     "name": "stdout",
     "output_type": "stream",
     "text": [
      "age = 21\n"
     ]
    }
   ],
   "source": [
    "age = 21\n",
    "print(\"age =\", age)\n"
   ]
  },
  {
   "cell_type": "markdown",
   "id": "7e55aa3f",
   "metadata": {},
   "source": [
    "### 1.9 Escape sequences"
   ]
  },
  {
   "cell_type": "code",
   "execution_count": 18,
   "id": "27578f0a",
   "metadata": {},
   "outputs": [
    {
     "name": "stdout",
     "output_type": "stream",
     "text": [
      "Hello I'm Yugan\n",
      "I'm 21 years old \\ Hi \t Bye\n"
     ]
    }
   ],
   "source": [
    "print('Hello I\\'m Yugan\\nI\\'m 21 years old \\\\ Hi \\t Bye')\n"
   ]
  },
  {
   "cell_type": "markdown",
   "id": "f9608053",
   "metadata": {},
   "source": [
    "### 1.10 Brackets"
   ]
  },
  {
   "cell_type": "code",
   "execution_count": 26,
   "id": "62d6bbd8",
   "metadata": {},
   "outputs": [
    {
     "name": "stdout",
     "output_type": "stream",
     "text": [
      "{'Names': 'Batman', 'real age': 21, 'Allies': ['superman', 'robin', 'avengers'], 'Enemies': ('Joker', 'Thanos')}\n",
      "avengers\n"
     ]
    }
   ],
   "source": [
    "d = {\"Names\": \"Batman\",\n",
    "    \"real age\": 21,\n",
    "    \"Allies\": [\"superman\", \"robin\", \"avengers\"],\n",
    "    \"Enemies\": (\"Joker\", \"Thanos\"),\n",
    "    }\n",
    "\n",
    "print(d)\n",
    "print(d[\"Allies\"][2])\n"
   ]
  },
  {
   "cell_type": "markdown",
   "id": "a90b704a",
   "metadata": {},
   "source": [
    "## 2 Giving Python superpowers"
   ]
  },
  {
   "cell_type": "markdown",
   "id": "6b4fd3aa",
   "metadata": {},
   "source": [
    "### 2.1 Packages"
   ]
  },
  {
   "cell_type": "code",
   "execution_count": 29,
   "id": "f3405e34",
   "metadata": {},
   "outputs": [
    {
     "ename": "ValueError",
     "evalue": "math domain error",
     "output_type": "error",
     "traceback": [
      "\u001b[1;31m---------------------------------------------------------------------------\u001b[0m",
      "\u001b[1;31mValueError\u001b[0m                                Traceback (most recent call last)",
      "Cell \u001b[1;32mIn[29], line 3\u001b[0m\n\u001b[0;32m      1\u001b[0m \u001b[38;5;28;01mimport\u001b[39;00m \u001b[38;5;21;01mmath\u001b[39;00m\n\u001b[0;32m      2\u001b[0m math\u001b[38;5;241m.\u001b[39msqrt(\u001b[38;5;241m4\u001b[39m)\n\u001b[1;32m----> 3\u001b[0m \u001b[43mmath\u001b[49m\u001b[38;5;241;43m.\u001b[39;49m\u001b[43msqrt\u001b[49m\u001b[43m(\u001b[49m\u001b[38;5;241;43m-\u001b[39;49m\u001b[38;5;241;43m1\u001b[39;49m\u001b[43m)\u001b[49m\n",
      "\u001b[1;31mValueError\u001b[0m: math domain error"
     ]
    }
   ],
   "source": [
    "import math\n",
    "math.sqrt(4)\n",
    "math.sqrt(-1) #math domain error\n"
   ]
  },
  {
   "cell_type": "code",
   "execution_count": 30,
   "id": "2c8db49b",
   "metadata": {},
   "outputs": [
    {
     "data": {
      "text/plain": [
       "2.0"
      ]
     },
     "execution_count": 30,
     "metadata": {},
     "output_type": "execute_result"
    }
   ],
   "source": [
    "from numpy import sqrt\n",
    "sqrt(4)"
   ]
  },
  {
   "cell_type": "code",
   "execution_count": 6,
   "id": "bf6e1d74",
   "metadata": {},
   "outputs": [
    {
     "data": {
      "text/plain": [
       "array([2.  , 0.2 , 4.  , 0.04])"
      ]
     },
     "execution_count": 6,
     "metadata": {},
     "output_type": "execute_result"
    }
   ],
   "source": [
    "sqrt([4, .04, 16, .0016])"
   ]
  },
  {
   "cell_type": "markdown",
   "id": "72c09c8f",
   "metadata": {},
   "source": [
    "### 2.2 The dot (.)"
   ]
  },
  {
   "cell_type": "code",
   "execution_count": 19,
   "id": "567e32b1",
   "metadata": {},
   "outputs": [
    {
     "name": "stdout",
     "output_type": "stream",
     "text": [
      "I AM BATMAN\n",
      "i am batman\n"
     ]
    }
   ],
   "source": [
    "print(\"I am batman\".upper())\n",
    "print(\"I am batman\".lower())"
   ]
  },
  {
   "cell_type": "code",
   "execution_count": 14,
   "id": "2bdb27a6",
   "metadata": {},
   "outputs": [
    {
     "data": {
      "text/plain": [
       "10.0"
      ]
     },
     "execution_count": 14,
     "metadata": {},
     "output_type": "execute_result"
    }
   ],
   "source": [
    "np.sqrt([9,16])\n",
    "math.sqrt(10**2)"
   ]
  },
  {
   "cell_type": "markdown",
   "id": "5d6887c1",
   "metadata": {},
   "source": [
    "## Exercise 1 :  Total recall?"
   ]
  },
  {
   "cell_type": "markdown",
   "id": "80244874",
   "metadata": {},
   "source": [
    "```python\n",
    "print() \n",
    "a = 10 \n",
    "a == 5+5\n",
    "import numpy as np\n",
    "import math as m\n",
    "m.sqrt(5)\n",
    "np.sqrt([1,2,3])\n",
    "\"I am batman\".split()\n",
    "```\n",
    "\n",
    "*if a == 10: <br>\n",
    "    print(True) <br>\n",
    "else: <br>\n",
    "    print(False) <br>\n",
    "dict_a = {\"hello\" : \"World\", 9 : 10 } <br>\n",
    "tuple_b = (1, 2, 10, \"Hello!\") <br>\n",
    "list_c = [\"hello\", \"world\"] <br>\n",
    "print(\"hello\\n\") <br>*\n",
    "\n",
    "\n"
   ]
  },
  {
   "cell_type": "markdown",
   "id": "e81da612",
   "metadata": {},
   "source": [
    "## Exercise 2 :  Debug me"
   ]
  },
  {
   "cell_type": "code",
   "execution_count": 5,
   "id": "7ab891bd",
   "metadata": {},
   "outputs": [
    {
     "name": "stdout",
     "output_type": "stream",
     "text": [
      "3 4 5.0\n"
     ]
    }
   ],
   "source": [
    "from math import sqrt\n",
    "x, y = 3, 4\n",
    "z = sqrt(x**2 + y**2)\n",
    "print(x, y, z)\n",
    "\n",
    "\n"
   ]
  },
  {
   "cell_type": "markdown",
   "id": "e230543b",
   "metadata": {},
   "source": [
    "## Exercise 3 :  In your own words"
   ]
  },
  {
   "cell_type": "markdown",
   "id": "6e9973f1",
   "metadata": {},
   "source": [
    "| Term         | Description                                                                                                   |\n",
    "|--------------|---------------------------------------------------------------------------------------------------------------|\n",
    "| Function     | Function is a program that takes in an input and can provide outputs.                                         |\n",
    "| Arguments    | Arguments are parameters that are passed in functions                                                         |\n",
    "| Comments     | Comments are used to highlight certain aspects of code that are not interpreted by the python interpretor     |\n",
    "| Indentations | Indentation are required for functions and if statements for them to be interpreted and run.                  |\n",
    "| Packages     | Packages are helpful as they provide more functions that needs to be imported that are not provided by python |\n",
    "| .            | dot provides ownership and allows the user to use functions that are linked to the particular class/package   |\n"
   ]
  },
  {
   "cell_type": "markdown",
   "id": "dcfc1ef6",
   "metadata": {},
   "source": [
    "## Exercise 4 :  More than one way to divide"
   ]
  },
  {
   "cell_type": "code",
   "execution_count": null,
   "id": "2eac947f",
   "metadata": {},
   "outputs": [],
   "source": [
    "5/2 #2.5 division\n",
    "5//2 #2 floor division\n",
    "5%2 #1 modulos \n",
    "\n"
   ]
  }
 ],
 "metadata": {
  "kernelspec": {
   "display_name": "Python 3 (ipykernel)",
   "language": "python",
   "name": "python3"
  },
  "language_info": {
   "codemirror_mode": {
    "name": "ipython",
    "version": 3
   },
   "file_extension": ".py",
   "mimetype": "text/x-python",
   "name": "python",
   "nbconvert_exporter": "python",
   "pygments_lexer": "ipython3",
   "version": "3.10.8"
  },
  "toc": {
   "base_numbering": 1,
   "nav_menu": {},
   "number_sections": true,
   "sideBar": true,
   "skip_h1_title": false,
   "title_cell": "Table of Contents",
   "title_sidebar": "Contents",
   "toc_cell": false,
   "toc_position": {},
   "toc_section_display": true,
   "toc_window_display": false
  },
  "varInspector": {
   "cols": {
    "lenName": 16,
    "lenType": 16,
    "lenVar": 40
   },
   "kernels_config": {
    "python": {
     "delete_cmd_postfix": "",
     "delete_cmd_prefix": "del ",
     "library": "var_list.py",
     "varRefreshCmd": "print(var_dic_list())"
    },
    "r": {
     "delete_cmd_postfix": ") ",
     "delete_cmd_prefix": "rm(",
     "library": "var_list.r",
     "varRefreshCmd": "cat(var_dic_list()) "
    }
   },
   "types_to_exclude": [
    "module",
    "function",
    "builtin_function_or_method",
    "instance",
    "_Feature"
   ],
   "window_display": false
  },
  "vscode": {
   "interpreter": {
    "hash": "31f2aee4e71d21fbe5cf8b01ff0e069b9275f58929596ceb00d14d90e3e16cd6"
   }
  }
 },
 "nbformat": 4,
 "nbformat_minor": 5
}
